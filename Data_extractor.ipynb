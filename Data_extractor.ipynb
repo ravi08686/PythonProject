{
 "cells": [
  {
   "cell_type": "code",
   "execution_count": 4,
   "id": "a0c60ef7",
   "metadata": {
    "scrolled": true
   },
   "outputs": [
    {
     "name": "stdout",
     "output_type": "stream",
     "text": [
      "input Base URL\n",
      "https://prod-tesseract-ne-pre-prod.azurewebsites.net/ui/product\n",
      "input Bearer Token to authenticate: \n",
      "Bearer eyJ0eXAiOiJKV1QiLCJhbGciOiJSUzI1NiIsIng1dCI6Ii1LSTNROW5OUjdiUm9meG1lWm9YcWJIWkdldyIsImtpZCI6Ii1LSTNROW5OUjdiUm9meG1lWm9YcWJIWkdldyJ9.eyJhdWQiOiJmM2Q1ZWI2MC1iNTEyLTQ1YWMtODI0YS1iMDQ4MDRjZDFmZmEiLCJpc3MiOiJodHRwczovL3N0cy53aW5kb3dzLm5ldC8xZTM1NWMwNC1lMGE0LTQyZWQtOGUyZC03MzUxNTkxZjBlZjEvIiwiaWF0IjoxNjgzMzQ0MjQ0LCJuYmYiOjE2ODMzNDQyNDQsImV4cCI6MTY4MzM0ODk2MSwiYWNyIjoiMSIsImFpbyI6IkFWUUFxLzhUQUFBQXhGaU9ybVk4SXQxWEswalVUbG9SOTJEQzNGUnE1Yitack1vdGw5VEdpWHN2S2VseXFmcW9Kb0FRRVVaWW11Yjcyb1ExNnVyK2pVajRSUEgvTXFZbkk0M2lIbnNXbUhxY3lKRFlMMUpBVThNPSIsImFtciI6WyJwd2QiLCJtZmEiXSwiYXBwaWQiOiIwOTE1ZjM5YS1lMDVkLTRhOTAtOTY4ZC1iMmExNDZkYjQzZTYiLCJhcHBpZGFjciI6IjAiLCJmYW1pbHlfbmFtZSI6IkthbW1hcmEiLCJnaXZlbl9uYW1lIjoiUmF2aSIsImlwYWRkciI6IjE2NS4xLjIzOS4xOTMiLCJuYW1lIjoiUmF2aSBLYW1tYXJhIiwib2lkIjoiZjY5NjdhNjctNDdiZC00N2YzLWFiZWMtYThiYjM5YmQ3MjI1Iiwib25wcmVtX3NpZCI6IlMtMS01LTIxLTM0MzIyMjE0MDktMzU3MDMxNTA0Ny00MTAxNDk1MjU1LTExNzY5NzUyIiwicmgiOiIwLkFRd0FCRncxSHFUZzdVS09MWE5SV1I4TzhXRHIxZk1TdGF4RmdrcXdTQVROSF9vTUFMVS4iLCJzY3AiOiJ1c2VyX2ltcGVyc29uYXRpb24iLCJzdWIiOiJGUUd1NkFiWUtXSk8yazhFRWxndUpGZnpHY2pCUDZDOFVPV0pSVERPUzVNIiwidGlkIjoiMWUzNTVjMDQtZTBhNC00MmVkLThlMmQtNzM1MTU5MWYwZWYxIiwidW5pcXVlX25hbWUiOiJSYXZpLmthbW1hcmFAa2FudGFyLmNvbSIsInVwbiI6IlJhdmkua2FtbWFyYUBrYW50YXIuY29tIiwidXRpIjoiNDBIaDdmX1EtMFM3eXZ1eFBBdGpBQSIsInZlciI6IjEuMCJ9.q17XG_vfvRNL0VTuyP8V396jllGjYktIt9pjs-ncCh3z97vtTuAOZxs_GeQ8v21hegiVcc8SuRxXfck3a7XK11Sy9beOUYz8hNqCxZ_HURN110nHcJyWq4WIs6l5qIa79yS3litM-kRTebGKa_Hitmgznz0FdWpSDOYQtl5FSlQKYgX2vjUdwlA1z9XiaksDDFdG9tQDl60J5wMbdMdhwtZOxPa4TxDvcbHe8R-1BcW_IyZhgm6boxuDsLovVKxKwWh-_QNNS36eFOw4nbx-ZhckuGrBABCp2_SUs-Kw3hWXp4o27G-6eafoBlQSa81yYmKHAqcucRH-qiE5vX5ooQ\n",
      "data/Packevaluatescreening_6_Produc_Template.json-Done\n"
     ]
    }
   ],
   "source": [
    "import warnings\n",
    "import requests\n",
    "import json\n",
    "import os\n",
    "from jsonpath_ng import jsonpath, parse\n",
    "import pandas as pd\n",
    "import numpy as np\n",
    "warnings.filterwarnings('ignore')\n",
    "\n",
    "def createJson(Output_response, file_path): #file_path=\"data/data.json\"\n",
    "    jsonString = json.dumps(Output_response, indent=4)\n",
    "    jsonFile = open(file_path, \"w\")\n",
    "    jsonFile.write(jsonString)\n",
    "    jsonFile.close()\n",
    "\n",
    "def create_Csv_for_required_data(jsonPath,JsonInput,Csv_filepath): #jsonPath = '$[*].modules[*].questions'\n",
    "    jsonpath_expression = parse(jsonPath)\n",
    "    Questions = jsonpath_expression.find(JsonInput)\n",
    "    df_all=pd.DataFrame()\n",
    "    ArrLength = len(Questions)\n",
    "    jsonvalue = []\n",
    "    for i in range(ArrLength):\n",
    "        jsonvalue= json.dumps(Questions[i].value,indent=4)\n",
    "        df= pd.read_json(jsonvalue)\n",
    "        df_all= pd.concat([df_all, df])\n",
    "\n",
    "    df_all = df_all.reset_index()\n",
    "    df_all = df_all.loc[:, [\"groupName\",\"variableName\",\"versionNumber\"]]\n",
    "    df_all = df_all.dropna()\n",
    "    return df_all\n",
    "\n",
    "\n",
    "def get_data(api, header,fileName):\n",
    "    response = requests.get(f\"{api}\",headers=header,verify = False)\n",
    "    if response.status_code == 200:\n",
    "        print(f\"{fileName}-Done\")\n",
    "        df_all_local2 = pd.DataFrame()\n",
    "        Output_response = response.json()\n",
    "        createJson(Output_response,fileName)\n",
    "        jsonPath = \"$[*].modules[*].questions\" #?(@.type!='presentation')\n",
    "        df_all_local2 = create_Csv_for_required_data(jsonPath,Output_response,\"data/test.csv\")\n",
    "        return df_all_local2\n",
    "    else:\n",
    "        print(f\"Error {response.status_code} for {fileName}\")\n",
    "\n",
    "print(\"input Base URL\")\n",
    "BaseUrl = input() \n",
    "\n",
    "print(\"input Bearer Token to authenticate: \")\n",
    "bearerToken = input()        \n",
    "my_headers = {'Authorization' : bearerToken}\n",
    "\n",
    "products = [\"Packevaluatescreening-6\"]\n",
    "df_all_final=pd.DataFrame()\n",
    "df_all_local=pd.DataFrame()\n",
    "for product in products:\n",
    "    Prod_data = product.split(\"-\")\n",
    "    ProductId = Prod_data[0]\n",
    "    versionId = Prod_data[1]\n",
    "    URL = f\"{BaseUrl}/{ProductId}/stage/production/configuration?version={versionId}\"\n",
    "    fileName = f\"data/{ProductId}_{versionId}_Produc_Template.json\"\n",
    "    df_all_local = get_data(URL,my_headers,fileName)\n",
    "    df_all_final = pd.concat([df_all_final,df_all_local])\n",
    "\n",
    "df_all_final = df_all_final.drop_duplicates()\n",
    "df_all_final.index = np.arange(1, len(df_all_final) + 1)\n",
    "df_all_final = df_all_final.reset_index(names=\"S.No\")\n",
    "open(\"data/test.csv\", \"a\")\n",
    "df_all_final.to_csv(\"data/test.csv\",index=False)\n",
    "\n",
    "\n"
   ]
  },
  {
   "cell_type": "code",
   "execution_count": null,
   "id": "f6302c24",
   "metadata": {},
   "outputs": [],
   "source": []
  },
  {
   "cell_type": "code",
   "execution_count": null,
   "id": "50160491",
   "metadata": {},
   "outputs": [],
   "source": []
  },
  {
   "cell_type": "code",
   "execution_count": null,
   "id": "5e776ded",
   "metadata": {},
   "outputs": [],
   "source": []
  }
 ],
 "metadata": {
  "kernelspec": {
   "display_name": "Python 3 (ipykernel)",
   "language": "python",
   "name": "python3"
  },
  "language_info": {
   "codemirror_mode": {
    "name": "ipython",
    "version": 3
   },
   "file_extension": ".py",
   "mimetype": "text/x-python",
   "name": "python",
   "nbconvert_exporter": "python",
   "pygments_lexer": "ipython3",
   "version": "3.10.9"
  }
 },
 "nbformat": 4,
 "nbformat_minor": 5
}
