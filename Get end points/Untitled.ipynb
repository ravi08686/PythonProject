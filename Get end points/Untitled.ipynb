{
 "cells": [
  {
   "cell_type": "code",
   "execution_count": 2,
   "id": "257f0d63",
   "metadata": {},
   "outputs": [
    {
     "name": "stderr",
     "output_type": "stream",
     "text": [
      "C:\\Users\\ravik\\AppData\\Local\\anaconda3\\lib\\site-packages\\urllib3\\connectionpool.py:1045: InsecureRequestWarning: Unverified HTTPS request is being made to host 'gls.kantar.com'. Adding certificate verification is strongly advised. See: https://urllib3.readthedocs.io/en/1.26.x/advanced-usage.html#ssl-warnings\n",
      "  warnings.warn(\n"
     ]
    },
    {
     "name": "stdout",
     "output_type": "stream",
     "text": [
      "Data is here: {'variableName': 'Ltpersuasionnewcategory', 'version': 1, 'tableTitle': '', 'isReadOnly': True, 'isHidden': False, 'customProperty': '', 'type': 'SingleCodedQuestion', 'instruments': ['CAWI'], 'scripts': {'description': '', 'dimensionsWebBefore': 'If%20containsany(Ltbrandusage%2c%7bHeardOf%2cNeverHeard%7d)%20Then', 'dimensionsWebAfter': 'End%20if', 'dimensionsMetadataBefore': '', 'dimensionsMetadataAfter': '', 'nFieldBefore': '', 'nFieldAfter': '', 'nFieldScriptOnContent': ''}, 'notes': {'researcher': '', 'scripter': '', 'client': '', 'dataProcessor': ''}, 'sharingLocaleGroups': [{'localesList': [{'locale': 'AR-AE'}, {'locale': 'AR-SA'}]}, {'localesList': [{'locale': 'EN-GB'}, {'locale': 'EN-AU'}, {'locale': 'EN-GH'}, {'locale': 'EN-IN'}, {'locale': 'EN-IE'}, {'locale': 'EN-KE'}, {'locale': 'EN-MY'}, {'locale': 'EN-NZ'}, {'locale': 'EN-NG'}, {'locale': 'EN-PH'}, {'locale': 'EN-SG'}, {'locale': 'EN-ZA'}, {'locale': 'EN-AE'}, {'locale': 'EN-ZW'}, {'locale': 'EN-US'}, {'locale': 'EN-CA'}]}, {'localesList': [{'locale': 'DE-AT'}, {'locale': 'DE-DE'}, {'locale': 'DE-LU'}, {'locale': 'DE-CH'}]}, {'localesList': [{'locale': 'NL-BE'}, {'locale': 'NL-NL'}]}, {'localesList': [{'locale': 'FR-BE'}, {'locale': 'FR-FR'}, {'locale': 'FR-LU'}, {'locale': 'FR-CH'}]}, {'localesList': [{'locale': 'ES-CR'}, {'locale': 'ES-DO'}, {'locale': 'ES-SV'}, {'locale': 'ES-GT'}, {'locale': 'ES-VE'}, {'locale': 'ES-CO'}, {'locale': 'ES-PA'}]}, {'localesList': [{'locale': 'ES-PY'}, {'locale': 'ES-UY'}, {'locale': 'ES-AR'}]}, {'localesList': [{'locale': 'HE-IL'}]}], 'verbs': [{'name': 'USING', 'locale': 'ZH-TW'}, {'name': 'BUYING', 'locale': 'ZH-TW'}, {'name': 'USING', 'locale': 'ZH-CN'}, {'name': 'BUYING', 'locale': 'ZH-CN'}, {'name': 'USING', 'locale': 'VI-VN'}, {'name': 'BUYING', 'locale': 'VI-VN'}, {'name': 'USING', 'locale': 'TR-TR'}, {'name': 'BUYING', 'locale': 'TR-TR'}, {'name': 'USING', 'locale': 'TL-PH'}, {'name': 'BUYING', 'locale': 'TL-PH'}, {'name': 'USING', 'locale': 'TH-TH'}, {'name': 'BUYING', 'locale': 'TH-TH'}, {'name': 'USING', 'locale': 'RO-RO'}, {'name': 'BUYING', 'locale': 'RO-RO'}, {'name': 'USING', 'locale': 'PT-BR'}, {'name': 'BUYING', 'locale': 'PT-BR'}, {'name': 'USING', 'locale': 'PL-PL'}, {'name': 'BUYING', 'locale': 'PL-PL'}, {'name': 'USING', 'locale': 'NL-NL'}, {'name': 'BUYING', 'locale': 'NL-NL'}, {'name': 'USING', 'locale': 'KO-KR'}, {'name': 'BUYING', 'locale': 'KO-KR'}, {'name': 'USING', 'locale': 'JA-JP'}, {'name': 'BUYING', 'locale': 'JA-JP'}, {'name': 'USING', 'locale': 'IT-IT'}, {'name': 'BUYING', 'locale': 'IT-IT'}, {'name': 'USING', 'locale': 'ID-ID'}, {'name': 'BUYING', 'locale': 'ID-ID'}, {'name': 'USING', 'locale': 'FR-FR'}, {'name': 'BUYING', 'locale': 'FR-FR'}, {'name': 'USING', 'locale': 'FR-BE'}, {'name': 'BUYING', 'locale': 'FR-BE'}, {'name': 'USING', 'locale': 'ES-PE'}, {'name': 'BUYING', 'locale': 'ES-PE'}, {'name': 'USING', 'locale': 'ES-MX'}, {'name': 'BUYING', 'locale': 'ES-MX'}, {'name': 'USING', 'locale': 'ES-ES'}, {'name': 'BUYING', 'locale': 'ES-ES'}, {'name': 'USING', 'locale': 'ES-CO'}, {'name': 'BUYING', 'locale': 'ES-CO'}, {'name': 'USING', 'locale': 'ES-CL'}, {'name': 'BUYING', 'locale': 'ES-CL'}, {'name': 'USING', 'locale': 'ES-AR'}, {'name': 'BUYING', 'locale': 'ES-AR'}, {'name': 'USING', 'locale': 'EN-ZW'}, {'name': 'BUYING', 'locale': 'EN-ZW'}, {'name': 'USING', 'locale': 'EN-ZA'}, {'name': 'BUYING', 'locale': 'EN-ZA'}, {'name': 'USING', 'locale': 'EN-US'}, {'name': 'BUYING', 'locale': 'EN-US'}, {'name': 'USING', 'locale': 'EN-SG'}, {'name': 'BUYING', 'locale': 'EN-SG'}, {'name': 'USING', 'locale': 'EN-PH'}, {'name': 'BUYING', 'locale': 'EN-PH'}, {'name': 'USING', 'locale': 'EN-NZ'}, {'name': 'BUYING', 'locale': 'EN-NZ'}, {'name': 'USING', 'locale': 'EN-NG'}, {'name': 'BUYING', 'locale': 'EN-NG'}, {'name': 'USING', 'locale': 'EN-KE'}, {'name': 'BUYING', 'locale': 'EN-KE'}, {'name': 'USING', 'locale': 'EN-IN'}, {'name': 'BUYING', 'locale': 'EN-IN'}, {'name': 'USING', 'locale': 'EN-IE'}, {'name': 'BUYING', 'locale': 'EN-IE'}, {'name': 'USING', 'locale': 'EN-GH'}, {'name': 'BUYING', 'locale': 'EN-GH'}, {'name': 'USING', 'locale': 'EN-GB'}, {'name': 'BUYING', 'locale': 'EN-GB'}, {'name': 'USING', 'locale': 'EN-CA'}, {'name': 'BUYING', 'locale': 'EN-CA'}, {'name': 'USING', 'locale': 'EN-AU'}, {'name': 'BUYING', 'locale': 'EN-AU'}, {'name': 'USING', 'locale': 'DE-DE'}, {'name': 'BUYING', 'locale': 'DE-DE'}, {'name': 'USING', 'locale': 'DE-AT'}, {'name': 'BUYING', 'locale': 'DE-AT'}, {'name': 'USING', 'locale': 'CS-CZ'}, {'name': 'BUYING', 'locale': 'CS-CZ'}, {'name': 'USING', 'locale': 'ES-US'}, {'name': 'BUYING', 'locale': 'ES-US'}, {'name': 'USING', 'locale': 'FI-FI'}, {'name': 'BUYING', 'locale': 'FI-FI'}, {'name': 'USING', 'locale': 'NB-NO'}, {'name': 'BUYING', 'locale': 'NB-NO'}, {'name': 'USING', 'locale': 'DA-DK'}, {'name': 'BUYING', 'locale': 'DA-DK'}, {'name': 'USING', 'locale': 'SV-SE'}, {'name': 'BUYING', 'locale': 'SV-SE'}, {'name': 'USING', 'locale': 'AR-SA'}, {'name': 'BUYING', 'locale': 'AR-SA'}, {'name': 'USING', 'locale': 'EN-MY'}, {'name': 'BUYING', 'locale': 'EN-MY'}, {'name': 'USING', 'locale': 'EN-AE'}, {'name': 'BUYING', 'locale': 'EN-AE'}, {'name': 'USING', 'locale': 'HR-HR'}, {'name': 'BUYING', 'locale': 'HR-HR'}, {'name': 'USING', 'locale': 'DE-LU'}, {'name': 'BUYING', 'locale': 'DE-LU'}, {'name': 'USING', 'locale': 'DE-CH'}, {'name': 'BUYING', 'locale': 'DE-CH'}, {'name': 'USING', 'locale': 'NL-BE'}, {'name': 'BUYING', 'locale': 'NL-BE'}, {'name': 'USING', 'locale': 'FR-LU'}, {'name': 'BUYING', 'locale': 'FR-LU'}, {'name': 'USING', 'locale': 'FR-CH'}, {'name': 'BUYING', 'locale': 'FR-CH'}, {'name': 'USING', 'locale': 'ES-CR'}, {'name': 'BUYING', 'locale': 'ES-CR'}, {'name': 'USING', 'locale': 'ES-DO'}, {'name': 'BUYING', 'locale': 'ES-DO'}, {'name': 'USING', 'locale': 'ES-SV'}, {'name': 'BUYING', 'locale': 'ES-SV'}, {'name': 'USING', 'locale': 'ES-GT'}, {'name': 'BUYING', 'locale': 'ES-GT'}, {'name': 'USING', 'locale': 'ES-VE'}, {'name': 'BUYING', 'locale': 'ES-VE'}, {'name': 'USING', 'locale': 'ES-PA'}, {'name': 'BUYING', 'locale': 'ES-PA'}, {'name': 'USING', 'locale': 'ES-PY'}, {'name': 'BUYING', 'locale': 'ES-PY'}, {'name': 'USING', 'locale': 'ES-UY'}, {'name': 'BUYING', 'locale': 'ES-UY'}, {'name': 'BUYING', 'locale': 'HE-IL'}, {'name': 'USING', 'locale': 'HE-IL'}], 'notRequiredAnswer': False, 'questionText': {'value': 'How will the ad affect your consideration of ##pluralcategoryName## in general?', 'isTranslatable': True}, 'instructionText': {'value': '', 'isTranslatable': False}, 'notBack': True, 'handleAsScale': True, 'answers': [{'text': {'value': 'Makes me much more likely to consider using/buying a/an ##categoryName##', 'isTranslatable': True}, 'defaultAnswerId': 0, 'code': 1, 'imageLocation': '', 'name': 'MuchMore', 'customProperty': '', 'isDefault': False, 'isExclusive': False, 'isFixed': False, 'isOptional': False, 'isScreenedOut': False, 'isOpen': False}, {'text': {'value': 'Makes me a little more likely to consider using/buying a/an ##categoryName##', 'isTranslatable': True}, 'defaultAnswerId': 0, 'code': 2, 'imageLocation': '', 'name': 'LittleMore', 'customProperty': '', 'isDefault': False, 'isExclusive': False, 'isFixed': False, 'isOptional': False, 'isScreenedOut': False, 'isOpen': False}, {'text': {'value': 'Makes no difference', 'isTranslatable': True}, 'defaultAnswerId': 0, 'code': 3, 'imageLocation': '', 'name': 'NoDiff', 'customProperty': '', 'isDefault': False, 'isExclusive': False, 'isFixed': False, 'isOptional': False, 'isScreenedOut': False, 'isOpen': False}, {'text': {'value': 'Puts me off considering using/buying a/an ##categoryName##', 'isTranslatable': True}, 'defaultAnswerId': 0, 'code': 4, 'imageLocation': '', 'name': 'Less', 'customProperty': '', 'isDefault': False, 'isExclusive': False, 'isFixed': False, 'isOptional': False, 'isScreenedOut': False, 'isOpen': False}], 'sortOrder': 'Normal', 'imageDisplayType': 'Text', 'interactiveTools': {'defaultProperties': 'metatype=\"rowpicker\", answertype=\"scale-text\"', 'customizedProperties': '', 'additionalProperties': '', 'isPropertiesOverridden': False}, 'isDummy': False, 'lastUpdated': {'author': {'id': 'dbb93e5f-f80a-4fbc-bdba-e28618f20b9c', 'type': 'User', 'email': 'Deviprasad.Muddada@kantar.com', 'name': 'Muddada, Deviprasad (KTHYD)'}, 'date': '2021-11-11T10:45:06.2572022+00:00', 'getModel': {'author': {'id': 'dbb93e5f-f80a-4fbc-bdba-e28618f20b9c', 'type': 'User'}, 'date': '2021-11-11T10:45:06.2572022+00:00'}}, 'created': {'author': {'id': '00000000-0000-0000-0000-000000000000', 'type': 'Unknown'}, 'getModel': {'author': {'id': '00000000-0000-0000-0000-000000000000', 'type': 'ExternalApplication'}}}}\n",
      "Data is not valid\n"
     ]
    }
   ],
   "source": [
    "import requests\n",
    "\n",
    "# Replace this URL with the endpoint you want to hit\n",
    "url = \"https://gls.kantar.com/api/GlobalLibrary/Ltpersuasionnewcategory/Content/Ltpersuasionnewcategory/Version/1?version=2\"\n",
    "\n",
    "# Replace 'YOUR_BEARER_TOKEN' with your actual bearer token\n",
    "bearer_token = 'eyJ0eXAiOiJKV1QiLCJhbGciOiJSUzI1NiIsIng1dCI6Ii1LSTNROW5OUjdiUm9meG1lWm9YcWJIWkdldyIsImtpZCI6Ii1LSTNROW5OUjdiUm9meG1lWm9YcWJIWkdldyJ9.eyJhdWQiOiJhcGk6Ly9jNTIxOTVlZi1iZDhkLTRmZjItODUyNS1mMzlkMTZjNmRjNzkiLCJpc3MiOiJodHRwczovL3N0cy53aW5kb3dzLm5ldC8xZTM1NWMwNC1lMGE0LTQyZWQtOGUyZC03MzUxNTkxZjBlZjEvIiwiaWF0IjoxNjk2OTQwMDY4LCJuYmYiOjE2OTY5NDAwNjgsImV4cCI6MTY5Njk0NTcwNywiYWNyIjoiMSIsImFpbyI6IkFWUUFxLzhVQUFBQWI3R1poM1ZOVkdBVmgyYnNBbG9BUDZucEwyS292YitQMnhhMEdmVTlaYmgxQlMvV1BJNkVNdkI4d0N4UzBnNThLZTVLNzhUQnpSbVh1cHBBU2QrSTlwSUdNUEI2alRWb21zZi9ZOW9VTVNzPSIsImFtciI6WyJwd2QiLCJtZmEiXSwiYXBwaWQiOiI0MTEzYmRmOS0xYTA5LTRmNTItODJmOS03OGUzMjk5NmVjY2MiLCJhcHBpZGFjciI6IjAiLCJmYW1pbHlfbmFtZSI6IkthbW1hcmEiLCJnaXZlbl9uYW1lIjoiUmF2aSIsImlwYWRkciI6IjEzNC4yMzguMjM4LjY5IiwibmFtZSI6IlJhdmkgS2FtbWFyYSIsIm9pZCI6ImY2OTY3YTY3LTQ3YmQtNDdmMy1hYmVjLWE4YmIzOWJkNzIyNSIsIm9ucHJlbV9zaWQiOiJTLTEtNS0yMS0zNDMyMjIxNDA5LTM1NzAzMTUwNDctNDEwMTQ5NTI1NS0xMTc2OTc1MiIsInJoIjoiMC5BUXdBQkZ3MUhxVGc3VUtPTFhOUldSOE84ZS1WSWNXTnZmSlBoU1h6blJiRzNIa01BTFUuIiwic2NwIjoiYWNjZXNzX2FzX3VzZXIiLCJzdWIiOiJlcFhodzMzN3FmN0hZMXN2QjFiUWJkNDFCYUNBT3l0ZnhXdjNOX1g2anZVIiwidGlkIjoiMWUzNTVjMDQtZTBhNC00MmVkLThlMmQtNzM1MTU5MWYwZWYxIiwidW5pcXVlX25hbWUiOiJSYXZpLmthbW1hcmFAa2FudGFyLmNvbSIsInVwbiI6IlJhdmkua2FtbWFyYUBrYW50YXIuY29tIiwidXRpIjoiMzFCdlZoYjhYMENXUW1QMXpuS1JBQSIsInZlciI6IjEuMCJ9.XOe3LDt5KihVTCxQ1Q3Sp9smTvhr74ePyZjKQ9Bt4vYIW4HOA_4yIAIo7AraFzNpuy37kbks1_q3zjADYK6mqeXfPrBdLRu60t2Vn5vI6_4nj1_0QhZApXxOxKR0bspNmGYFb9oIRkhBumR7d1ACfHCEAKT4C-4mjxse4r8N5a5fs6Av8Eo06hfEs4lTiZyjQZddguHVbe3A-fkk47DFAQHabFvO0j7gGxWHdKqcDE2MI-py4MeEg4DX-lK5pE67HKyMFe4wYF5zNO3NxauTFn781S03ps9a71LciS2M1jhFo3MkonQURNkjoLOoeA20gKq3WoPnOdzEGCrpgDz_Ag'\n",
    "\n",
    "# Define the headers with the Authorization header containing the bearer token\n",
    "headers = {\n",
    "    'Authorization': f'Bearer {bearer_token}'\n",
    "}\n",
    "\n",
    "try:\n",
    "    response = requests.get(url, headers=headers, verify=False)\n",
    "\n",
    "    # Check if the response status code is 200 (OK)\n",
    "    if response.status_code == 200:\n",
    "        # You can access the response content as text or JSON depending on your API's response format\n",
    "        data = response.json()  # If the response is in JSON format\n",
    "        # data = response.text  # If the response is in plain text or HTML\n",
    "\n",
    "        # Validate the data as per your requirements\n",
    "        print(\"Data is here:\", data)\n",
    "        if 'key_to_check' in data:\n",
    "            print(\"Data is valid:\", data)\n",
    "        else:\n",
    "            print(\"Data is not valid\")\n",
    "\n",
    "    else:\n",
    "        print(\"Failed to retrieve data. Status code:\", response.status_code)\n",
    "\n",
    "except requests.exceptions.RequestException as e:\n",
    "    print(\"An error occurred:\", e)\n"
   ]
  },
  {
   "cell_type": "code",
   "execution_count": null,
   "id": "7bdf083a",
   "metadata": {},
   "outputs": [],
   "source": []
  }
 ],
 "metadata": {
  "kernelspec": {
   "display_name": "Python 3 (ipykernel)",
   "language": "python",
   "name": "python3"
  },
  "language_info": {
   "codemirror_mode": {
    "name": "ipython",
    "version": 3
   },
   "file_extension": ".py",
   "mimetype": "text/x-python",
   "name": "python",
   "nbconvert_exporter": "python",
   "pygments_lexer": "ipython3",
   "version": "3.10.9"
  }
 },
 "nbformat": 4,
 "nbformat_minor": 5
}
