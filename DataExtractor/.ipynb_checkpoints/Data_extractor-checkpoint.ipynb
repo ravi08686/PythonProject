{
 "cells": [
  {
   "cell_type": "code",
   "execution_count": 2,
   "id": "a0c60ef7",
   "metadata": {
    "scrolled": true
   },
   "outputs": [
    {
     "name": "stdout",
     "output_type": "stream",
     "text": [
      "input Base URL\n",
      "https://prod-tesseract-ne-pre-prod.azurewebsites.net/ui/product\n",
      "input Bearer Token to authenticate: \n",
      "Bearer eyJ0eXAiOiJKV1QiLCJhbGciOiJSUzI1NiIsIng1dCI6Ii1LSTNROW5OUjdiUm9meG1lWm9YcWJIWkdldyIsImtpZCI6Ii1LSTNROW5OUjdiUm9meG1lWm9YcWJIWkdldyJ9.eyJhdWQiOiJmM2Q1ZWI2MC1iNTEyLTQ1YWMtODI0YS1iMDQ4MDRjZDFmZmEiLCJpc3MiOiJodHRwczovL3N0cy53aW5kb3dzLm5ldC8xZTM1NWMwNC1lMGE0LTQyZWQtOGUyZC03MzUxNTkxZjBlZjEvIiwiaWF0IjoxNjgzMzM5ODAxLCJuYmYiOjE2ODMzMzk4MDEsImV4cCI6MTY4MzM0NDQ0MywiYWNyIjoiMSIsImFpbyI6IkFWUUFxLzhUQUFBQUxsK2ZPSWFyWnd4T0JlWFJldFJNQkhSZUZoYmQvL1lSejVFeWFzTVVZVlZySUg3TGdHdWpNR1hLSWM1c3dYNVZ3alBLc29hVE94OG9kMXRUdWlMVitZckU5dSt1U1B6RDlWdFR6cmFQTzRjPSIsImFtciI6WyJwd2QiLCJtZmEiXSwiYXBwaWQiOiIwOTE1ZjM5YS1lMDVkLTRhOTAtOTY4ZC1iMmExNDZkYjQzZTYiLCJhcHBpZGFjciI6IjAiLCJmYW1pbHlfbmFtZSI6IkthbW1hcmEiLCJnaXZlbl9uYW1lIjoiUmF2aSIsImlwYWRkciI6IjE2NS4xLjIzOS4xOTMiLCJuYW1lIjoiUmF2aSBLYW1tYXJhIiwib2lkIjoiZjY5NjdhNjctNDdiZC00N2YzLWFiZWMtYThiYjM5YmQ3MjI1Iiwib25wcmVtX3NpZCI6IlMtMS01LTIxLTM0MzIyMjE0MDktMzU3MDMxNTA0Ny00MTAxNDk1MjU1LTExNzY5NzUyIiwicmgiOiIwLkFRd0FCRncxSHFUZzdVS09MWE5SV1I4TzhXRHIxZk1TdGF4RmdrcXdTQVROSF9vTUFMVS4iLCJzY3AiOiJ1c2VyX2ltcGVyc29uYXRpb24iLCJzdWIiOiJGUUd1NkFiWUtXSk8yazhFRWxndUpGZnpHY2pCUDZDOFVPV0pSVERPUzVNIiwidGlkIjoiMWUzNTVjMDQtZTBhNC00MmVkLThlMmQtNzM1MTU5MWYwZWYxIiwidW5pcXVlX25hbWUiOiJSYXZpLmthbW1hcmFAa2FudGFyLmNvbSIsInVwbiI6IlJhdmkua2FtbWFyYUBrYW50YXIuY29tIiwidXRpIjoiTGtRTC1oN29wRUdxNDVER2hRaVdBQSIsInZlciI6IjEuMCJ9.PSjPZ3CIuYsUDp0DLztC-ajaYu5Ho_UbcUzV42NN3YHjQTP2wEmHLPh57OjKNPIxIAuSAXHMw151ya1WTr-OF8iZQh2MJ6beWWBH9q1nu8C4N2qHus2PhT2UbyfA9UowLKrkab9Rlct4q8O_emQnExaXd1k67z6mY0SEHgQ_eCCisp7AAJAD95VTs29PFb8Ki_rArx1qvRWIM4KNnz9HUHE4avx9XY0xDtSLc4K5W5HCOAWJKHPMk7gn144Goagd0JNkYHO8PNBBkTsC5NHPpkhSpxJw6QPKvBjivfYVhKZZgCUklQ8qBTPjPfNlQ3dEPtuqSDeWzTH3iuxtXfmZvw\n",
      "data/Packevaluatescreening_6_Produc_Template.json-Done\n"
     ]
    },
    {
     "ename": "FileNotFoundError",
     "evalue": "[Errno 2] No such file or directory: 'data/Packevaluatescreening_6_Produc_Template.json'",
     "output_type": "error",
     "traceback": [
      "\u001b[1;31m---------------------------------------------------------------------------\u001b[0m",
      "\u001b[1;31mFileNotFoundError\u001b[0m                         Traceback (most recent call last)",
      "Cell \u001b[1;32mIn[2], line 62\u001b[0m\n\u001b[0;32m     60\u001b[0m     URL \u001b[38;5;241m=\u001b[39m \u001b[38;5;124mf\u001b[39m\u001b[38;5;124m\"\u001b[39m\u001b[38;5;132;01m{\u001b[39;00mBaseUrl\u001b[38;5;132;01m}\u001b[39;00m\u001b[38;5;124m/\u001b[39m\u001b[38;5;132;01m{\u001b[39;00mProductId\u001b[38;5;132;01m}\u001b[39;00m\u001b[38;5;124m/stage/production/configuration?version=\u001b[39m\u001b[38;5;132;01m{\u001b[39;00mversionId\u001b[38;5;132;01m}\u001b[39;00m\u001b[38;5;124m\"\u001b[39m\n\u001b[0;32m     61\u001b[0m     fileName \u001b[38;5;241m=\u001b[39m \u001b[38;5;124mf\u001b[39m\u001b[38;5;124m\"\u001b[39m\u001b[38;5;124mdata/\u001b[39m\u001b[38;5;132;01m{\u001b[39;00mProductId\u001b[38;5;132;01m}\u001b[39;00m\u001b[38;5;124m_\u001b[39m\u001b[38;5;132;01m{\u001b[39;00mversionId\u001b[38;5;132;01m}\u001b[39;00m\u001b[38;5;124m_Produc_Template.json\u001b[39m\u001b[38;5;124m\"\u001b[39m\n\u001b[1;32m---> 62\u001b[0m     df_all_local \u001b[38;5;241m=\u001b[39m \u001b[43mget_data\u001b[49m\u001b[43m(\u001b[49m\u001b[43mURL\u001b[49m\u001b[43m,\u001b[49m\u001b[43mmy_headers\u001b[49m\u001b[43m,\u001b[49m\u001b[43mfileName\u001b[49m\u001b[43m)\u001b[49m\n\u001b[0;32m     63\u001b[0m     df_all_final \u001b[38;5;241m=\u001b[39m pd\u001b[38;5;241m.\u001b[39mconcat([df_all_final,df_all_local])\n\u001b[0;32m     65\u001b[0m df_all_final \u001b[38;5;241m=\u001b[39m df_all_final\u001b[38;5;241m.\u001b[39mdrop_duplicates()\n",
      "Cell \u001b[1;32mIn[2], line 39\u001b[0m, in \u001b[0;36mget_data\u001b[1;34m(api, header, fileName)\u001b[0m\n\u001b[0;32m     37\u001b[0m df_all_local2 \u001b[38;5;241m=\u001b[39m pd\u001b[38;5;241m.\u001b[39mDataFrame()\n\u001b[0;32m     38\u001b[0m Output_response \u001b[38;5;241m=\u001b[39m response\u001b[38;5;241m.\u001b[39mjson()\n\u001b[1;32m---> 39\u001b[0m \u001b[43mcreateJson\u001b[49m\u001b[43m(\u001b[49m\u001b[43mOutput_response\u001b[49m\u001b[43m,\u001b[49m\u001b[43mfileName\u001b[49m\u001b[43m)\u001b[49m\n\u001b[0;32m     40\u001b[0m jsonPath \u001b[38;5;241m=\u001b[39m \u001b[38;5;124m\"\u001b[39m\u001b[38;5;124m$[*].modules[*].questions\u001b[39m\u001b[38;5;124m\"\u001b[39m \u001b[38;5;66;03m#?(@.type!='presentation')\u001b[39;00m\n\u001b[0;32m     41\u001b[0m df_all_local2 \u001b[38;5;241m=\u001b[39m create_Csv_for_required_data(jsonPath,Output_response,\u001b[38;5;124m\"\u001b[39m\u001b[38;5;124mdata/test.csv\u001b[39m\u001b[38;5;124m\"\u001b[39m)\n",
      "Cell \u001b[1;32mIn[2], line 12\u001b[0m, in \u001b[0;36mcreateJson\u001b[1;34m(Output_response, file_path)\u001b[0m\n\u001b[0;32m     10\u001b[0m \u001b[38;5;28;01mdef\u001b[39;00m \u001b[38;5;21mcreateJson\u001b[39m(Output_response, file_path): \u001b[38;5;66;03m#file_path=\"data/data.json\"\u001b[39;00m\n\u001b[0;32m     11\u001b[0m     jsonString \u001b[38;5;241m=\u001b[39m json\u001b[38;5;241m.\u001b[39mdumps(Output_response, indent\u001b[38;5;241m=\u001b[39m\u001b[38;5;241m4\u001b[39m)\n\u001b[1;32m---> 12\u001b[0m     jsonFile \u001b[38;5;241m=\u001b[39m \u001b[38;5;28;43mopen\u001b[39;49m\u001b[43m(\u001b[49m\u001b[43mfile_path\u001b[49m\u001b[43m,\u001b[49m\u001b[43m \u001b[49m\u001b[38;5;124;43m\"\u001b[39;49m\u001b[38;5;124;43mw\u001b[39;49m\u001b[38;5;124;43m\"\u001b[39;49m\u001b[43m)\u001b[49m\n\u001b[0;32m     13\u001b[0m     jsonFile\u001b[38;5;241m.\u001b[39mwrite(jsonString)\n\u001b[0;32m     14\u001b[0m     jsonFile\u001b[38;5;241m.\u001b[39mclose()\n",
      "File \u001b[1;32m~\\AppData\\Local\\anaconda3\\lib\\site-packages\\IPython\\core\\interactiveshell.py:282\u001b[0m, in \u001b[0;36m_modified_open\u001b[1;34m(file, *args, **kwargs)\u001b[0m\n\u001b[0;32m    275\u001b[0m \u001b[38;5;28;01mif\u001b[39;00m file \u001b[38;5;129;01min\u001b[39;00m {\u001b[38;5;241m0\u001b[39m, \u001b[38;5;241m1\u001b[39m, \u001b[38;5;241m2\u001b[39m}:\n\u001b[0;32m    276\u001b[0m     \u001b[38;5;28;01mraise\u001b[39;00m \u001b[38;5;167;01mValueError\u001b[39;00m(\n\u001b[0;32m    277\u001b[0m         \u001b[38;5;124mf\u001b[39m\u001b[38;5;124m\"\u001b[39m\u001b[38;5;124mIPython won\u001b[39m\u001b[38;5;124m'\u001b[39m\u001b[38;5;124mt let you open fd=\u001b[39m\u001b[38;5;132;01m{\u001b[39;00mfile\u001b[38;5;132;01m}\u001b[39;00m\u001b[38;5;124m by default \u001b[39m\u001b[38;5;124m\"\u001b[39m\n\u001b[0;32m    278\u001b[0m         \u001b[38;5;124m\"\u001b[39m\u001b[38;5;124mas it is likely to crash IPython. If you know what you are doing, \u001b[39m\u001b[38;5;124m\"\u001b[39m\n\u001b[0;32m    279\u001b[0m         \u001b[38;5;124m\"\u001b[39m\u001b[38;5;124myou can use builtins\u001b[39m\u001b[38;5;124m'\u001b[39m\u001b[38;5;124m open.\u001b[39m\u001b[38;5;124m\"\u001b[39m\n\u001b[0;32m    280\u001b[0m     )\n\u001b[1;32m--> 282\u001b[0m \u001b[38;5;28;01mreturn\u001b[39;00m io_open(file, \u001b[38;5;241m*\u001b[39margs, \u001b[38;5;241m*\u001b[39m\u001b[38;5;241m*\u001b[39mkwargs)\n",
      "\u001b[1;31mFileNotFoundError\u001b[0m: [Errno 2] No such file or directory: 'data/Packevaluatescreening_6_Produc_Template.json'"
     ]
    }
   ],
   "source": [
    "import warnings\n",
    "import requests\n",
    "import json\n",
    "import os\n",
    "from jsonpath_ng import jsonpath, parse\n",
    "import pandas as pd\n",
    "import numpy as np\n",
    "warnings.filterwarnings('ignore')\n",
    "\n",
    "def createJson(Output_response, file_path): #file_path=\"data/data.json\"\n",
    "    jsonString = json.dumps(Output_response, indent=4)\n",
    "    jsonFile = open(file_path, \"w\")\n",
    "    jsonFile.write(jsonString)\n",
    "    jsonFile.close()\n",
    "\n",
    "def create_Csv_for_required_data(jsonPath,JsonInput,Csv_filepath): #jsonPath = '$[*].modules[*].questions'\n",
    "    jsonpath_expression = parse(jsonPath)\n",
    "    Questions = jsonpath_expression.find(JsonInput)\n",
    "    df_all=pd.DataFrame()\n",
    "    ArrLength = len(Questions)\n",
    "    jsonvalue = []\n",
    "    for i in range(ArrLength):\n",
    "        jsonvalue= json.dumps(Questions[i].value,indent=4)\n",
    "        df= pd.read_json(jsonvalue)\n",
    "        df_all= pd.concat([df_all, df])\n",
    "\n",
    "    df_all = df_all.reset_index()\n",
    "    df_all = df_all.loc[:, [\"groupName\",\"variableName\",\"versionNumber\"]]\n",
    "    df_all = df_all.dropna()\n",
    "    return df_all\n",
    "\n",
    "\n",
    "def get_data(api, header,fileName):\n",
    "    response = requests.get(f\"{api}\",headers=header,verify = False)\n",
    "    if response.status_code == 200:\n",
    "        print(f\"{fileName}-Done\")\n",
    "        df_all_local2 = pd.DataFrame()\n",
    "        Output_response = response.json()\n",
    "        createJson(Output_response,fileName)\n",
    "        jsonPath = \"$[*].modules[*].questions\" #?(@.type!='presentation')\n",
    "        df_all_local2 = create_Csv_for_required_data(jsonPath,Output_response,\"data/test.csv\")\n",
    "        return df_all_local2\n",
    "    else:\n",
    "        print(f\"Error {response.status_code} for {fileName}\")\n",
    "\n",
    "print(\"input Base URL\")\n",
    "BaseUrl = input() \n",
    "\n",
    "print(\"input Bearer Token to authenticate: \")\n",
    "bearerToken = input()        \n",
    "my_headers = {'Authorization' : bearerToken}\n",
    "\n",
    "products = [\"Packevaluatescreening-6\"]\n",
    "df_all_final=pd.DataFrame()\n",
    "df_all_local=pd.DataFrame()\n",
    "for product in products:\n",
    "    Prod_data = product.split(\"-\")\n",
    "    ProductId = Prod_data[0]\n",
    "    versionId = Prod_data[1]\n",
    "    URL = f\"{BaseUrl}/{ProductId}/stage/production/configuration?version={versionId}\"\n",
    "    fileName = f\"data/{ProductId}_{versionId}_Produc_Template.json\"\n",
    "    df_all_local = get_data(URL,my_headers,fileName)\n",
    "    df_all_final = pd.concat([df_all_final,df_all_local])\n",
    "\n",
    "df_all_final = df_all_final.drop_duplicates()\n",
    "df_all_final.index = np.arange(1, len(df_all_final) + 1)\n",
    "df_all_final = df_all_final.reset_index(names=\"S.No\")\n",
    "open(\"data/test.csv\", \"a\")\n",
    "df_all_final.to_csv(\"data/test.csv\",index=False)\n",
    "\n",
    "\n"
   ]
  },
  {
   "cell_type": "code",
   "execution_count": null,
   "id": "f6302c24",
   "metadata": {},
   "outputs": [],
   "source": []
  },
  {
   "cell_type": "code",
   "execution_count": null,
   "id": "50160491",
   "metadata": {},
   "outputs": [],
   "source": []
  },
  {
   "cell_type": "code",
   "execution_count": null,
   "id": "5e776ded",
   "metadata": {},
   "outputs": [],
   "source": []
  }
 ],
 "metadata": {
  "kernelspec": {
   "display_name": "Python 3 (ipykernel)",
   "language": "python",
   "name": "python3"
  },
  "language_info": {
   "codemirror_mode": {
    "name": "ipython",
    "version": 3
   },
   "file_extension": ".py",
   "mimetype": "text/x-python",
   "name": "python",
   "nbconvert_exporter": "python",
   "pygments_lexer": "ipython3",
   "version": "3.10.9"
  }
 },
 "nbformat": 4,
 "nbformat_minor": 5
}
