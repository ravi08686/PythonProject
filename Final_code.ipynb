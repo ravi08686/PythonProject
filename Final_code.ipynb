{
 "cells": [
  {
   "cell_type": "code",
   "execution_count": 1,
   "id": "4f872a98",
   "metadata": {},
   "outputs": [],
   "source": [
    "import cv2\n",
    "import numpy as np\n",
    "\n",
    "face_classifier = cv2.CascadeClassifier('C:\\\\Users\\\\Administrator\\\\Documents\\\\GitHub\\\\opencv\\\\data\\\\haarcascades\\\\haarcascade_frontalface_default.xml')"
   ]
  },
  {
   "cell_type": "code",
   "execution_count": 4,
   "id": "3dbf001c",
   "metadata": {},
   "outputs": [],
   "source": [
    "import tkinter as tk\n",
    "from PIL import Image, ImageTk\n",
    "# Create the main window\n",
    "\n",
    "def select_your_images(img):\n",
    "    def Yes_button():\n",
    "        print(\"Test Yes\")\n",
    "\n",
    "    def No_button():\n",
    "        print(\"Test No\")\n",
    "    window = tk.Tk()\n",
    "    window.title(\"Image Generation\")\n",
    "\n",
    "    #image1 = Image.open(\"C:\\\\Users\\\\Administrator\\\\Desktop\\\\Mine\\\\Untitled.jpg\")\n",
    "    image1 = Image.fromarray(img)\n",
    "    test = ImageTk.PhotoImage(image1)\n",
    "    print(test)\n",
    "    label1 = tk.Label(image=test)\n",
    "    label1.image = test\n",
    "    label1.pack(pady=10)\n",
    "\n",
    "    # Create a button\n",
    "    Yes_button = tk.Button(window, text=\"Yes\", command=Yes_button)\n",
    "    Yes_button.pack(pady=10)\n",
    "\n",
    "    No_button = tk.Button(window, text=\"No\", command=No_button)\n",
    "    No_button.pack(pady=10)\n",
    "\n",
    "    # Create a label for status messages\n",
    "    status_label = tk.Label(window, text=\"\")\n",
    "    status_label.pack()\n",
    "\n",
    "    # Run the main event loop\n",
    "    window.mainloop()\n"
   ]
  },
  {
   "cell_type": "code",
   "execution_count": 5,
   "id": "b450e408",
   "metadata": {},
   "outputs": [
    {
     "name": "stdout",
     "output_type": "stream",
     "text": [
      "Original Dimensions :  (105, 105, 3)\n",
      "Original Dimensions :  (64, 64, 3)\n",
      "pyimage8\n",
      "Test Yes\n",
      "Test Yes\n",
      "Original Dimensions :  (110, 110, 3)\n",
      "Original Dimensions :  (64, 64, 3)\n",
      "pyimage9\n",
      "Original Dimensions :  (138, 138, 3)\n",
      "Original Dimensions :  (64, 64, 3)\n",
      "pyimage10\n",
      "Original Dimensions :  (110, 110, 3)\n",
      "Original Dimensions :  (64, 64, 3)\n",
      "pyimage11\n",
      "Original Dimensions :  (131, 131, 3)\n",
      "Original Dimensions :  (64, 64, 3)\n",
      "pyimage12\n",
      "Original Dimensions :  (73, 73, 3)\n",
      "Original Dimensions :  (64, 64, 3)\n",
      "pyimage13\n",
      "Original Dimensions :  (167, 167, 3)\n",
      "Original Dimensions :  (64, 64, 3)\n",
      "pyimage14\n"
     ]
    }
   ],
   "source": [
    "cap = cv2.imread(\"C:\\\\Users\\\\Administrator\\\\Desktop\\\\Mine\\\\WhatsApp Images\\\\IMG-20211117-WA0006.jpg\")\n",
    "width = 64\n",
    "height = 64\n",
    "def show_faces(img):\n",
    "    gray = cv2.cvtColor(img, cv2.COLOR_BGR2GRAY)\n",
    "    faces= face_classifier.detectMultiScale(gray, 1.3,5)\n",
    "    if (len(faces)>0): \n",
    "        for (x,y,w,h) in faces:\n",
    "            crop_img = img[y:y+h, x:x+w]\n",
    "            print('Original Dimensions : ',crop_img.shape)\n",
    " \n",
    "             # keep original height\n",
    "            dim = (width, height)\n",
    "\n",
    "            # resize image\n",
    "            resized = cv2.resize(crop_img, dim, interpolation = cv2.INTER_AREA)            \n",
    "            print('Original Dimensions : ',resized.shape)\n",
    "            select_your_images(resized)\n",
    "            #cv2.imshow(\"cropped\", resized)            \n",
    "            #cv2.waitKey(0)\n",
    "show_faces(cap)"
   ]
  },
  {
   "cell_type": "code",
   "execution_count": null,
   "id": "168148a7",
   "metadata": {},
   "outputs": [],
   "source": []
  },
  {
   "cell_type": "code",
   "execution_count": null,
   "id": "55622559",
   "metadata": {},
   "outputs": [],
   "source": []
  }
 ],
 "metadata": {
  "kernelspec": {
   "display_name": "Python 3 (ipykernel)",
   "language": "python",
   "name": "python3"
  },
  "language_info": {
   "codemirror_mode": {
    "name": "ipython",
    "version": 3
   },
   "file_extension": ".py",
   "mimetype": "text/x-python",
   "name": "python",
   "nbconvert_exporter": "python",
   "pygments_lexer": "ipython3",
   "version": "3.10.9"
  }
 },
 "nbformat": 4,
 "nbformat_minor": 5
}
