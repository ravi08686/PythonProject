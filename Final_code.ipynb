{
 "cells": [
  {
   "cell_type": "code",
   "execution_count": 1,
   "id": "4f872a98",
   "metadata": {},
   "outputs": [],
   "source": [
    "import cv2\n",
    "import numpy as np\n",
    "import tkinter as tk\n",
    "from tkinter import messagebox\n",
    "from PIL import Image, ImageTk\n",
    "\n",
    "face_classifier = cv2.CascadeClassifier('C:\\\\Users\\\\Administrator\\\\Documents\\\\GitHub\\\\opencv\\\\data\\\\haarcascades\\\\haarcascade_frontalface_default.xml')"
   ]
  },
  {
   "cell_type": "code",
   "execution_count": 2,
   "id": "3dbf001c",
   "metadata": {},
   "outputs": [],
   "source": [
    "import tkinter as tk\n",
    "from PIL import Image, ImageTk\n",
    "# Create the main window\n",
    "\n",
    "def select_your_images(faces,img):\n",
    "    def Yes_button():\n",
    "        print(\"Test Yes\")\n",
    "        window.destroy()\n",
    "    def No_button():\n",
    "        print(\"Test No\")\n",
    "        #window.destroy()\n",
    "    window = tk.Tk()\n",
    "    window.title(\"Image selection\")\n",
    "\n",
    "    \n",
    "    print(\"innter test\")\n",
    "    # Create a button\n",
    "    Yes_button = tk.Button(window, text=\"Yes\", command=Yes_button)\n",
    "    Yes_button.pack(pady=10)\n",
    "\n",
    "    No_button = tk.Button(window, text=\"No\", command=No_button)\n",
    "    No_button.pack(pady=10)\n",
    "    \n",
    "    for (x,y,w,h) in faces:\n",
    "            crop_img = img[y:y+h, x:x+w]\n",
    "            #print('Original Dimensions : ',crop_img.shape)\n",
    " \n",
    "             # keep original height\n",
    "            dim = (64, 64)\n",
    "\n",
    "            # resize image\n",
    "            resized = cv2.resize(crop_img, dim, interpolation = cv2.INTER_AREA) \n",
    "            #image1 = Image.open(\"C:\\\\Users\\\\Administrator\\\\Desktop\\\\Mine\\\\Untitled.jpg\")\n",
    "            image1 = Image.fromarray(resized)\n",
    "            test = ImageTk.PhotoImage(image1)\n",
    "            label1 = tk.Label(image=test)\n",
    "            label1.image = test\n",
    "            label1.pack(pady=10)\n",
    "\n",
    "    # Run the main event loop\n",
    "    window.mainloop()\n"
   ]
  },
  {
   "cell_type": "code",
   "execution_count": 3,
   "id": "b450e408",
   "metadata": {},
   "outputs": [
    {
     "name": "stdout",
     "output_type": "stream",
     "text": [
      "innter test\n",
      "Test Yes\n"
     ]
    }
   ],
   "source": [
    "cap = cv2.imread(\"C:\\\\Users\\\\Administrator\\\\Desktop\\\\Mine\\\\WhatsApp Images\\\\IMG-20211117-WA0006.jpg\")\n",
    "width = 64\n",
    "height = 64\n",
    "def show_faces(img):\n",
    "    gray = cv2.cvtColor(img, cv2.COLOR_BGR2GRAY)\n",
    "    faces= face_classifier.detectMultiScale(gray, 1.3,5)\n",
    "    if (len(faces)>0): \n",
    "        select_your_images(faces,img)\n",
    "                   \n",
    "            #print('Original Dimensions : ',resized.shape)\n",
    "            #cv2.imshow(\"cropped\", resized)            \n",
    "            #cv2.waitKey(0)\n",
    "show_faces(cap)"
   ]
  },
  {
   "cell_type": "code",
   "execution_count": 4,
   "id": "168148a7",
   "metadata": {},
   "outputs": [],
   "source": [
    "root = tk.Tk()\n",
    "\n",
    "img = ImageTk.PhotoImage(Image.open(\"C:\\\\Users\\\\Administrator\\\\Desktop\\\\Mine\\\\Untitled.jpg\"))\n",
    "panel = tk.Label(root, image=img)\n",
    "panel.pack(side=\"bottom\", fill=\"both\", expand=\"yes\")\n",
    "\n",
    "def callback(e):\n",
    "    img2 = ImageTk.PhotoImage(Image.open(\"C:\\\\Users\\\\Administrator\\\\Desktop\\\\Mine\\\\Untitled2.jpg\"))\n",
    "    panel.configure(image=img2)\n",
    "    panel.image = img2\n",
    "\n",
    "root.bind(\"<Return>\", callback)\n",
    "root.mainloop()"
   ]
  },
  {
   "cell_type": "code",
   "execution_count": 5,
   "id": "55622559",
   "metadata": {},
   "outputs": [
    {
     "ename": "NameError",
     "evalue": "name 'faces' is not defined",
     "output_type": "error",
     "traceback": [
      "\u001b[1;31m---------------------------------------------------------------------------\u001b[0m",
      "\u001b[1;31mNameError\u001b[0m                                 Traceback (most recent call last)",
      "Cell \u001b[1;32mIn[5], line 55\u001b[0m\n\u001b[0;32m     52\u001b[0m no_button\u001b[38;5;241m.\u001b[39mpack(side\u001b[38;5;241m=\u001b[39mtk\u001b[38;5;241m.\u001b[39mRIGHT)\n\u001b[0;32m     54\u001b[0m \u001b[38;5;66;03m# Show the first image\u001b[39;00m\n\u001b[1;32m---> 55\u001b[0m show_next_image(\u001b[43mfaces\u001b[49m[\u001b[38;5;241m0\u001b[39m])\n\u001b[0;32m     57\u001b[0m \u001b[38;5;66;03m# Start the Tkinter main loop\u001b[39;00m\n\u001b[0;32m     58\u001b[0m root\u001b[38;5;241m.\u001b[39mmainloop()\n",
      "\u001b[1;31mNameError\u001b[0m: name 'faces' is not defined"
     ]
    }
   ],
   "source": [
    "# Define a list of image file paths\n",
    "image_paths = [\"C:\\\\Users\\\\Administrator\\\\Desktop\\\\Mine\\\\Untitled.jpg\", \"C:\\\\Users\\\\Administrator\\\\Desktop\\\\Mine\\\\Untitled2.jpg\"]\n",
    "\n",
    "9# Initialize variables\n",
    "current_image_index = 0\n",
    "\n",
    "# Function to show the next image\n",
    "def show_next_image(faces):\n",
    "    global current_image_index\n",
    "    if current_image_index < len(faces):\n",
    "        face = faces[current_image_index]\n",
    "        load_and_display_image(face)\n",
    "        current_image_index += 1\n",
    "    else:\n",
    "        messagebox.showinfo(\"Finished\", \"No more images!\")\n",
    "        root.destroy()\n",
    "\n",
    "# Function to load and display an image\n",
    "def load_and_display_image(face):\n",
    "    img = \"C:\\\\Users\\\\Administrator\\\\Desktop\\\\Mine\\\\WhatsApp Images\\\\IMG-20211117-WA0006.jpg\"\n",
    "    x,y,w,h = face\n",
    "    crop_img = img[y:y+h, x:x+w]\n",
    "    dim = (64, 64)\n",
    "    resized = cv2.resize(crop_img, dim, interpolation = cv2.INTER_AREA) \n",
    "    image1 = Image.fromarray(resized)\n",
    "    photo = ImageTk.PhotoImage(image1)\n",
    "    image_label.config(image=photo)\n",
    "    image_label.image = photo  # Keep a reference to prevent garbage collection\n",
    "\n",
    "# Function to handle the \"Yes\" button\n",
    "def answer_yes():\n",
    "    #messagebox.showinfo(\"Response\", \"You answered 'Yes'\")\n",
    "    show_next_image()\n",
    "\n",
    "# Function to handle the \"No\" button\n",
    "def answer_no():\n",
    "    #messagebox.showinfo(\"Response\", \"You answered 'No'\")\n",
    "    show_next_image()\n",
    "\n",
    "# Create the main window\n",
    "root = tk.Tk()\n",
    "root.title(\"Image Viewer\")\n",
    "\n",
    "# Create a label to display the images\n",
    "image_label = tk.Label(root)\n",
    "image_label.pack()\n",
    "\n",
    "# Create \"Yes\" and \"No\" buttons\n",
    "yes_button = tk.Button(root, text=\"Yes\", command=answer_yes)\n",
    "no_button = tk.Button(root, text=\"No\", command=answer_no)\n",
    "yes_button.pack(side=tk.LEFT)\n",
    "no_button.pack(side=tk.RIGHT)\n",
    "\n",
    "# Show the first image\n",
    "show_next_image(faces[0])\n",
    "\n",
    "# Start the Tkinter main loop\n",
    "root.mainloop()"
   ]
  },
  {
   "cell_type": "code",
   "execution_count": null,
   "id": "e1940057",
   "metadata": {},
   "outputs": [],
   "source": []
  }
 ],
 "metadata": {
  "kernelspec": {
   "display_name": "Python 3 (ipykernel)",
   "language": "python",
   "name": "python3"
  },
  "language_info": {
   "codemirror_mode": {
    "name": "ipython",
    "version": 3
   },
   "file_extension": ".py",
   "mimetype": "text/x-python",
   "name": "python",
   "nbconvert_exporter": "python",
   "pygments_lexer": "ipython3",
   "version": "3.10.9"
  }
 },
 "nbformat": 4,
 "nbformat_minor": 5
}
