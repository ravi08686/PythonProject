{
 "cells": [
  {
   "cell_type": "code",
   "execution_count": null,
   "id": "072d0190",
   "metadata": {},
   "outputs": [],
   "source": [
    "import tkinter as tk\n",
    "from PIL import ImageGrab\n",
    "import time\n",
    "\n",
    "def generate_image():\n",
    "    # Take a screenshot of the paste area (assuming it's on the screen)\n",
    "    screenshot = ImageGrab.grabclipboard()\n",
    "\n",
    "    if screenshot is None:\n",
    "        status_label.config(text=\"No image found in the clipboard.\")\n",
    "    else:\n",
    "        timestamp = time.strftime(\"%Y%m%d-%H%M%S\")  # Generate timestamp\n",
    "        output_path = f\"output_{timestamp}.png\"  # Specify the output filename with timestamp\n",
    "        screenshot.save(output_path)\n",
    "        status_label.config(text=f\"Image saved to {output_path}\")\n",
    "\n",
    "# Create the main window\n",
    "window = tk.Tk()\n",
    "window.title(\"Image Generation\")\n",
    "\n",
    "# Create a button\n",
    "generate_button = tk.Button(window, text=\"Generate Image\", command=generate_image)\n",
    "generate_button.pack(pady=10)\n",
    "\n",
    "# Create a label for status messages\n",
    "status_label = tk.Label(window, text=\"\")\n",
    "status_label.pack()\n",
    "\n",
    "# Run the main event loop\n",
    "window.mainloop()"
   ]
  },
  {
   "cell_type": "code",
   "execution_count": null,
   "id": "5d3ae044",
   "metadata": {},
   "outputs": [],
   "source": []
  }
 ],
 "metadata": {
  "kernelspec": {
   "display_name": "Python 3 (ipykernel)",
   "language": "python",
   "name": "python3"
  },
  "language_info": {
   "codemirror_mode": {
    "name": "ipython",
    "version": 3
   },
   "file_extension": ".py",
   "mimetype": "text/x-python",
   "name": "python",
   "nbconvert_exporter": "python",
   "pygments_lexer": "ipython3",
   "version": "3.10.9"
  }
 },
 "nbformat": 4,
 "nbformat_minor": 5
}
