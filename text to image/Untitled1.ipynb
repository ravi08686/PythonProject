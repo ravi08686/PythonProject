{
 "cells": [
  {
   "cell_type": "code",
   "execution_count": 1,
   "id": "a67a85f7",
   "metadata": {},
   "outputs": [
    {
     "name": "stdout",
     "output_type": "stream",
     "text": [
      "Image saved to output.png\n"
     ]
    }
   ],
   "source": [
    "import time\n",
    "from PIL import ImageGrab\n",
    "\n",
    "# Take a screenshot of the paste area (assuming it's on the screen)\n",
    "screenshot = ImageGrab.grabclipboard()\n",
    "\n",
    "if screenshot is None:\n",
    "    print(\"No image found in the clipboard.\")\n",
    "else:\n",
    "    timestamp = time.strftime(\"%Y%m%d-%H%M%S\")  # Generate timestamp\n",
    "    output_path = f\"output_{timestamp}.png\"  # Specify the output filename with timestamp\n",
    "    screenshot.save(output_path)\n",
    "    print(f\"Image saved to {output_path}\")"
   ]
  },
  {
   "cell_type": "code",
   "execution_count": null,
   "id": "1c69ed6e",
   "metadata": {},
   "outputs": [],
   "source": []
  }
 ],
 "metadata": {
  "kernelspec": {
   "display_name": "Python 3 (ipykernel)",
   "language": "python",
   "name": "python3"
  },
  "language_info": {
   "codemirror_mode": {
    "name": "ipython",
    "version": 3
   },
   "file_extension": ".py",
   "mimetype": "text/x-python",
   "name": "python",
   "nbconvert_exporter": "python",
   "pygments_lexer": "ipython3",
   "version": "3.10.9"
  }
 },
 "nbformat": 4,
 "nbformat_minor": 5
}
