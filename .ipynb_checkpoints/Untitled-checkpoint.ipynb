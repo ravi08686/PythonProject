{
 "cells": [
  {
   "cell_type": "code",
   "execution_count": 1,
   "id": "4d6fe14e",
   "metadata": {},
   "outputs": [],
   "source": [
    "import cv2\n",
    "import numpy as np\n",
    "import tkinter as tk\n",
    "from tkinter import messagebox\n",
    "from PIL import Image, ImageTk\n",
    "\n",
    "face_classifier = cv2.CascadeClassifier('C:\\\\Users\\\\Administrator\\\\Documents\\\\GitHub\\\\opencv\\\\data\\\\haarcascades\\\\haarcascade_frontalface_default.xml')"
   ]
  },
  {
   "cell_type": "code",
   "execution_count": 5,
   "id": "61c4ffb3",
   "metadata": {},
   "outputs": [],
   "source": [
    "cap = cv2.imread(\"C:\\\\Users\\\\Administrator\\\\Desktop\\\\Mine\\\\WhatsApp Images\\\\IMG-20211117-WA0006.jpg\")\n",
    "width = 64\n",
    "height = 64\n",
    "faces = []\n",
    "def show_faces(img):\n",
    "    global faces\n",
    "    gray = cv2.cvtColor(img, cv2.COLOR_BGR2GRAY)\n",
    "    faces= face_classifier.detectMultiScale(gray, 1.3,5)\n",
    "    #if (len(faces)>0): \n",
    "     #   select_your_images(faces,img)\n",
    "                   \n",
    "            #print('Original Dimensions : ',resized.shape)\n",
    "            #cv2.imshow(\"cropped\", resized)            \n",
    "            #cv2.waitKey(0)\n",
    "show_faces(cap)"
   ]
  },
  {
   "cell_type": "code",
   "execution_count": 11,
   "id": "911cdb66",
   "metadata": {},
   "outputs": [
    {
     "ename": "TypeError",
     "evalue": "cannot unpack non-iterable numpy.int32 object",
     "output_type": "error",
     "traceback": [
      "\u001b[1;31m---------------------------------------------------------------------------\u001b[0m",
      "\u001b[1;31mTypeError\u001b[0m                                 Traceback (most recent call last)",
      "Cell \u001b[1;32mIn[11], line 53\u001b[0m\n\u001b[0;32m     50\u001b[0m no_button\u001b[38;5;241m.\u001b[39mpack(side\u001b[38;5;241m=\u001b[39mtk\u001b[38;5;241m.\u001b[39mRIGHT)\n\u001b[0;32m     52\u001b[0m \u001b[38;5;66;03m# Show the first image\u001b[39;00m\n\u001b[1;32m---> 53\u001b[0m \u001b[43mshow_next_image\u001b[49m\u001b[43m(\u001b[49m\u001b[43mfaces\u001b[49m\u001b[43m[\u001b[49m\u001b[38;5;241;43m0\u001b[39;49m\u001b[43m]\u001b[49m\u001b[43m)\u001b[49m\n\u001b[0;32m     55\u001b[0m \u001b[38;5;66;03m# Start the Tkinter main loop\u001b[39;00m\n\u001b[0;32m     56\u001b[0m root\u001b[38;5;241m.\u001b[39mmainloop()\n",
      "Cell \u001b[1;32mIn[11], line 9\u001b[0m, in \u001b[0;36mshow_next_image\u001b[1;34m(faces)\u001b[0m\n\u001b[0;32m      7\u001b[0m \u001b[38;5;28;01mif\u001b[39;00m current_image_index \u001b[38;5;241m<\u001b[39m \u001b[38;5;28mlen\u001b[39m(faces):\n\u001b[0;32m      8\u001b[0m     face \u001b[38;5;241m=\u001b[39m faces[current_image_index]\n\u001b[1;32m----> 9\u001b[0m     \u001b[43mload_and_display_image\u001b[49m\u001b[43m(\u001b[49m\u001b[43mface\u001b[49m\u001b[43m)\u001b[49m\n\u001b[0;32m     10\u001b[0m     current_image_index \u001b[38;5;241m+\u001b[39m\u001b[38;5;241m=\u001b[39m \u001b[38;5;241m1\u001b[39m\n\u001b[0;32m     11\u001b[0m \u001b[38;5;28;01melse\u001b[39;00m:\n",
      "Cell \u001b[1;32mIn[11], line 18\u001b[0m, in \u001b[0;36mload_and_display_image\u001b[1;34m(face)\u001b[0m\n\u001b[0;32m     16\u001b[0m \u001b[38;5;28;01mdef\u001b[39;00m \u001b[38;5;21mload_and_display_image\u001b[39m(face):\n\u001b[0;32m     17\u001b[0m     img \u001b[38;5;241m=\u001b[39m cv2\u001b[38;5;241m.\u001b[39mimread(\u001b[38;5;124m\"\u001b[39m\u001b[38;5;124mC:\u001b[39m\u001b[38;5;130;01m\\\\\u001b[39;00m\u001b[38;5;124mUsers\u001b[39m\u001b[38;5;130;01m\\\\\u001b[39;00m\u001b[38;5;124mAdministrator\u001b[39m\u001b[38;5;130;01m\\\\\u001b[39;00m\u001b[38;5;124mDesktop\u001b[39m\u001b[38;5;130;01m\\\\\u001b[39;00m\u001b[38;5;124mMine\u001b[39m\u001b[38;5;130;01m\\\\\u001b[39;00m\u001b[38;5;124mWhatsApp Images\u001b[39m\u001b[38;5;130;01m\\\\\u001b[39;00m\u001b[38;5;124mIMG-20211117-WA0006.jpg\u001b[39m\u001b[38;5;124m\"\u001b[39m)\n\u001b[1;32m---> 18\u001b[0m     (x,y,w,h) \u001b[38;5;241m=\u001b[39m face\n\u001b[0;32m     19\u001b[0m     \u001b[38;5;28mprint\u001b[39m(\u001b[38;5;124mf\u001b[39m\u001b[38;5;124m\"\u001b[39m\u001b[38;5;124mx is:\u001b[39m\u001b[38;5;132;01m{\u001b[39;00mx\u001b[38;5;132;01m}\u001b[39;00m\u001b[38;5;124m, Y:\u001b[39m\u001b[38;5;132;01m{\u001b[39;00my\u001b[38;5;132;01m}\u001b[39;00m\u001b[38;5;124m,w:\u001b[39m\u001b[38;5;132;01m{\u001b[39;00mw\u001b[38;5;132;01m}\u001b[39;00m\u001b[38;5;124m,h:\u001b[39m\u001b[38;5;132;01m{\u001b[39;00mh\u001b[38;5;132;01m}\u001b[39;00m\u001b[38;5;124m\"\u001b[39m)\n\u001b[0;32m     20\u001b[0m     crop_img \u001b[38;5;241m=\u001b[39m img[y:y\u001b[38;5;241m+\u001b[39mh, x:x\u001b[38;5;241m+\u001b[39mw]\n",
      "\u001b[1;31mTypeError\u001b[0m: cannot unpack non-iterable numpy.int32 object"
     ]
    }
   ],
   "source": [
    "9# Initialize variables\n",
    "current_image_index = 0\n",
    "\n",
    "# Function to show the next image\n",
    "def show_next_image(faces):\n",
    "    global current_image_index\n",
    "    if current_image_index < len(faces):\n",
    "        face = faces[current_image_index]\n",
    "        load_and_display_image(face)\n",
    "        current_image_index += 1\n",
    "    else:\n",
    "        messagebox.showinfo(\"Finished\", \"No more images!\")\n",
    "        root.destroy()\n",
    "\n",
    "# Function to load and display an image\n",
    "def load_and_display_image(face):\n",
    "    img = cv2.imread(\"C:\\\\Users\\\\Administrator\\\\Desktop\\\\Mine\\\\WhatsApp Images\\\\IMG-20211117-WA0006.jpg\")\n",
    "    (x,y,w,h) = face\n",
    "    print(f\"x is:{x}, Y:{y},w:{w},h:{h}\")\n",
    "    crop_img = img[y:y+h, x:x+w]\n",
    "    dim = (64, 64)\n",
    "    resized = cv2.resize(crop_img, dim, interpolation = cv2.INTER_AREA) \n",
    "    image1 = Image.fromarray(resized)\n",
    "    photo = ImageTk.PhotoImage(image1)\n",
    "    image_label.config(image=photo)\n",
    "    image_label.image = photo  # Keep a reference to prevent garbage collection\n",
    "\n",
    "# Function to handle the \"Yes\" button\n",
    "def answer_yes():\n",
    "    #messagebox.showinfo(\"Response\", \"You answered 'Yes'\")\n",
    "    show_next_image()\n",
    "\n",
    "# Function to handle the \"No\" button\n",
    "def answer_no():\n",
    "    #messagebox.showinfo(\"Response\", \"You answered 'No'\")\n",
    "    show_next_image()\n",
    "\n",
    "# Create the main window\n",
    "root = tk.Tk()\n",
    "root.title(\"Image Viewer\")\n",
    "\n",
    "# Create a label to display the images\n",
    "image_label = tk.Label(root)\n",
    "image_label.pack()\n",
    "\n",
    "# Create \"Yes\" and \"No\" buttons\n",
    "yes_button = tk.Button(root, text=\"Yes\", command=answer_yes)\n",
    "no_button = tk.Button(root, text=\"No\", command=answer_no)\n",
    "yes_button.pack(side=tk.LEFT)\n",
    "no_button.pack(side=tk.RIGHT)\n",
    "\n",
    "# Show the first image\n",
    "show_next_image(faces)\n",
    "\n",
    "# Start the Tkinter main loop\n",
    "root.mainloop()"
   ]
  },
  {
   "cell_type": "code",
   "execution_count": null,
   "id": "55c32124",
   "metadata": {},
   "outputs": [],
   "source": []
  }
 ],
 "metadata": {
  "kernelspec": {
   "display_name": "Python 3 (ipykernel)",
   "language": "python",
   "name": "python3"
  },
  "language_info": {
   "codemirror_mode": {
    "name": "ipython",
    "version": 3
   },
   "file_extension": ".py",
   "mimetype": "text/x-python",
   "name": "python",
   "nbconvert_exporter": "python",
   "pygments_lexer": "ipython3",
   "version": "3.10.9"
  }
 },
 "nbformat": 4,
 "nbformat_minor": 5
}
