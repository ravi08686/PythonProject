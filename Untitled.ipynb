{
 "cells": [
  {
   "cell_type": "code",
   "execution_count": 4,
   "id": "4d6fe14e",
   "metadata": {},
   "outputs": [],
   "source": [
    "import cv2\n",
    "import numpy as np\n",
    "import tkinter as tk\n",
    "from tkinter import messagebox\n",
    "from PIL import Image, ImageTk\n",
    "\n",
    "face_classifier = cv2.CascadeClassifier('C:\\\\Users\\\\Administrator\\\\Documents\\\\GitHub\\\\opencv\\\\data\\\\haarcascades\\\\haarcascade_frontalface_default.xml')"
   ]
  },
  {
   "cell_type": "code",
   "execution_count": 5,
   "id": "61c4ffb3",
   "metadata": {},
   "outputs": [],
   "source": [
    "cap = cv2.imread(\"C:\\\\Users\\\\Administrator\\\\Desktop\\\\Mine\\\\WhatsApp Images\\\\IMG-20211117-WA0006.jpg\")\n",
    "width = 64\n",
    "height = 64\n",
    "faces = []\n",
    "def show_faces(img):\n",
    "    global faces\n",
    "    gray = cv2.cvtColor(img, cv2.COLOR_BGR2GRAY)\n",
    "    faces= face_classifier.detectMultiScale(gray, 1.3,5)\n",
    "    #if (len(faces)>0): \n",
    "     #   select_your_images(faces,img)\n",
    "                   \n",
    "            #print('Original Dimensions : ',resized.shape)\n",
    "            #cv2.imshow(\"cropped\", resized)            \n",
    "            #cv2.waitKey(0)\n",
    "show_faces(cap)"
   ]
  },
  {
   "cell_type": "code",
   "execution_count": 6,
   "id": "911cdb66",
   "metadata": {},
   "outputs": [
    {
     "name": "stdout",
     "output_type": "stream",
     "text": [
      "x is:569, Y:343,w:105,h:105\n"
     ]
    },
    {
     "name": "stderr",
     "output_type": "stream",
     "text": [
      "Exception in Tkinter callback\n",
      "Traceback (most recent call last):\n",
      "  File \"C:\\ProgramData\\anaconda3\\lib\\tkinter\\__init__.py\", line 1921, in __call__\n",
      "    return self.func(*args)\n",
      "  File \"C:\\Users\\Administrator\\AppData\\Local\\Temp\\ipykernel_7492\\3269968527.py\", line 31, in answer_yes\n",
      "    show_next_image()\n",
      "TypeError: show_next_image() missing 1 required positional argument: 'faces'\n"
     ]
    }
   ],
   "source": [
    "9# Initialize variables\n",
    "current_image_index = 0\n",
    "\n",
    "# Function to show the next image\n",
    "def show_next_image(faces):\n",
    "    global current_image_index\n",
    "    if current_image_index < len(faces):\n",
    "        face = faces[current_image_index]\n",
    "        load_and_display_image(face)\n",
    "        current_image_index += 1\n",
    "    else:\n",
    "        messagebox.showinfo(\"Finished\", \"No more images!\")\n",
    "        root.destroy()\n",
    "\n",
    "# Function to load and display an image\n",
    "def load_and_display_image(face):\n",
    "    img = cv2.imread(\"C:\\\\Users\\\\Administrator\\\\Desktop\\\\Mine\\\\WhatsApp Images\\\\IMG-20211117-WA0006.jpg\")\n",
    "    (x,y,w,h) = face\n",
    "    print(f\"x is:{x}, Y:{y},w:{w},h:{h}\")\n",
    "    crop_img = img[y:y+h, x:x+w]\n",
    "    dim = (64, 64)\n",
    "    resized = cv2.resize(crop_img, dim, interpolation = cv2.INTER_AREA) \n",
    "    image1 = Image.fromarray(resized)\n",
    "    photo = ImageTk.PhotoImage(image1)\n",
    "    image_label.config(image=photo)\n",
    "    image_label.image = photo  # Keep a reference to prevent garbage collection\n",
    "\n",
    "# Function to handle the \"Yes\" button\n",
    "def answer_yes():\n",
    "    #messagebox.showinfo(\"Response\", \"You answered 'Yes'\")\n",
    "    show_next_image()\n",
    "\n",
    "# Function to handle the \"No\" button\n",
    "def answer_no():\n",
    "    #messagebox.showinfo(\"Response\", \"You answered 'No'\")\n",
    "    show_next_image()\n",
    "\n",
    "# Create the main window\n",
    "root = tk.Tk()\n",
    "root.title(\"Image Viewer\")\n",
    "\n",
    "# Create a label to display the images\n",
    "image_label = tk.Label(root)\n",
    "image_label.pack()\n",
    "\n",
    "# Create \"Yes\" and \"No\" buttons\n",
    "yes_button = tk.Button(root, text=\"Yes\", command=answer_yes)\n",
    "no_button = tk.Button(root, text=\"No\", command=answer_no)\n",
    "yes_button.pack(side=tk.LEFT)\n",
    "no_button.pack(side=tk.RIGHT)\n",
    "\n",
    "# Show the first image\n",
    "show_next_image(faces)\n",
    "\n",
    "# Start the Tkinter main loop\n",
    "root.mainloop()"
   ]
  },
  {
   "cell_type": "code",
   "execution_count": null,
   "id": "55c32124",
   "metadata": {},
   "outputs": [],
   "source": []
  }
 ],
 "metadata": {
  "kernelspec": {
   "display_name": "Python 3 (ipykernel)",
   "language": "python",
   "name": "python3"
  },
  "language_info": {
   "codemirror_mode": {
    "name": "ipython",
    "version": 3
   },
   "file_extension": ".py",
   "mimetype": "text/x-python",
   "name": "python",
   "nbconvert_exporter": "python",
   "pygments_lexer": "ipython3",
   "version": "3.10.9"
  }
 },
 "nbformat": 4,
 "nbformat_minor": 5
}
