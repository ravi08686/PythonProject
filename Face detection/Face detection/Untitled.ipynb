{
 "cells": [
  {
   "cell_type": "code",
   "execution_count": 1,
   "id": "8662b64d",
   "metadata": {},
   "outputs": [],
   "source": [
    "import cv2\n",
    "import numpy as np"
   ]
  },
  {
   "cell_type": "code",
   "execution_count": 2,
   "id": "f69e288a",
   "metadata": {},
   "outputs": [],
   "source": [
    "face_classifier = cv2.CascadeClassifier('C:\\\\Users\\\\Administrator\\\\Documents\\\\GitHub\\\\opencv\\\\data\\\\haarcascades\\\\haarcascade_frontalface_default.xml')"
   ]
  },
  {
   "cell_type": "code",
   "execution_count": 3,
   "id": "9414ed9a",
   "metadata": {},
   "outputs": [],
   "source": [
    "def detect_faces(img):\n",
    "    gray = cv2.cvtColor(img, cv2.COLOR_BGR2GRAY)\n",
    "    faces= face_classifier.detectMultiScale(gray, 1.3,5)\n",
    "    if (len(faces)>0):\n",
    "        for (x,y,w,h) in faces:\n",
    "            cv2.rectangle(img,(x,y),(x+w,y+h),(0,255,0),2)    \n",
    "    return img"
   ]
  },
  {
   "cell_type": "code",
   "execution_count": 10,
   "id": "3906fdf2",
   "metadata": {},
   "outputs": [],
   "source": [
    "#cap = cv2.VideoCapture(0)\n",
    "cap = cv2.imread(\"C:\\\\Users\\\\Administrator\\\\Desktop\\\\Mine\\\\WhatsApp Images\\\\IMG-20211117-WA0006.jpg\")"
   ]
  },
  {
   "cell_type": "code",
   "execution_count": 6,
   "id": "7b4a9848",
   "metadata": {},
   "outputs": [],
   "source": [
    "frame = detect_faces(cap)\n",
    "cv2.imshow('Video face detection', frame)\n",
    "\n",
    "while True:\n",
    "    if cv2.waitKey(1) & 0xFF==ord('q'):\n",
    "        cv2.destroyAllWindows()\n",
    "        break"
   ]
  },
  {
   "cell_type": "code",
   "execution_count": 11,
   "id": "dfe4c498",
   "metadata": {},
   "outputs": [],
   "source": [
    "def show_faces(img):\n",
    "    gray = cv2.cvtColor(img, cv2.COLOR_BGR2GRAY)\n",
    "    faces= face_classifier.detectMultiScale(gray, 1.3,5)\n",
    "    if (len(faces)>0): \n",
    "        for (x,y,w,h) in faces:\n",
    "            crop_img = img[y:y+h, x:x+w]\n",
    "            cv2.imshow(\"cropped\", crop_img)\n",
    "            cv2.waitKey(0)\n",
    "show_faces(cap)"
   ]
  },
  {
   "cell_type": "code",
   "execution_count": null,
   "id": "a7bb1968",
   "metadata": {},
   "outputs": [],
   "source": [
    "while True:\n",
    "    #ret, frame = cap.read()\n",
    "    #frame = detect_faces(frame)\n",
    "    frame = detect_faces(cap)\n",
    "    cv2.imshow('Video face detection', frame)\n",
    "    if cv2.waitKey(1) & 0xFF==ord('q'):\n",
    "        break\n",
    "\n",
    "#cap.release()\n",
    "cv2.destroyAllWindows()"
   ]
  },
  {
   "cell_type": "code",
   "execution_count": 16,
   "id": "2508bae5",
   "metadata": {},
   "outputs": [
    {
     "name": "stderr",
     "output_type": "stream",
     "text": [
      "C:\\Users\\ravik\\AppData\\Local\\Temp\\ipykernel_22428\\729372421.py:4: DeprecationWarning: elementwise comparison failed; this will raise an error in the future.\n",
      "  if faces == ():\n"
     ]
    }
   ],
   "source": [
    "while False:\n",
    "    ret, frame = cap.read()\n",
    "    frame = detect_qfaces(frame)\n",
    "    cv2.imshow('Video face detection', frame)\n",
    "    if cv2.waitKey(1) & 0xFF==ord('q'):\n",
    "        break\n",
    "\n",
    "cap.release()\n",
    "cv2.destroyAllWindows()\n",
    "    "
   ]
  },
  {
   "cell_type": "code",
   "execution_count": null,
   "id": "70e80aa5",
   "metadata": {},
   "outputs": [],
   "source": []
  }
 ],
 "metadata": {
  "kernelspec": {
   "display_name": "Python 3 (ipykernel)",
   "language": "python",
   "name": "python3"
  },
  "language_info": {
   "codemirror_mode": {
    "name": "ipython",
    "version": 3
   },
   "file_extension": ".py",
   "mimetype": "text/x-python",
   "name": "python",
   "nbconvert_exporter": "python",
   "pygments_lexer": "ipython3",
   "version": "3.10.9"
  }
 },
 "nbformat": 4,
 "nbformat_minor": 5
}
