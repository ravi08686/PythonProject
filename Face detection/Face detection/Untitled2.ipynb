{
 "cells": [
  {
   "cell_type": "code",
   "execution_count": 14,
   "id": "9f6571a4",
   "metadata": {},
   "outputs": [],
   "source": [
    "import os\n",
    "import cv2\n",
    "import pandas as pd\n",
    "import numpy as np\n",
    "import tensorflow as tf\n",
    "from tensorflow import keras\n",
    "from sklearn.model_selection import train_test_split\n",
    "from PIL import Image, ImageTk\n",
    "\n",
    "# Step 1: Read the folder\n",
    "def load_images_from_folder(folder_path):\n",
    "    images = []\n",
    "    for filename in os.listdir(folder_path):\n",
    "        if filename.endswith(('.jpg', '.png', '.jpeg')):\n",
    "            img = cv2.imread(os.path.join(folder_path, filename))\n",
    "            if img is not None:\n",
    "                images.append((filename, img))\n",
    "    return images\n",
    "\n",
    "if __name__ == \"__main__\":\n",
    "    folder_path = \"C:\\\\Users\\\\ravik\\\\Desktop\\\\My images\\\\test\"\n",
    "    \n",
    "    # Step 1: Read the folder\n",
    "    images = load_images_from_folder(folder_path)\n",
    "    \n",
    "    \n",
    "    "
   ]
  },
  {
   "cell_type": "code",
   "execution_count": 77,
   "id": "3aa6dacb",
   "metadata": {},
   "outputs": [
    {
     "data": {
      "text/html": [
       "<div>\n",
       "<style scoped>\n",
       "    .dataframe tbody tr th:only-of-type {\n",
       "        vertical-align: middle;\n",
       "    }\n",
       "\n",
       "    .dataframe tbody tr th {\n",
       "        vertical-align: top;\n",
       "    }\n",
       "\n",
       "    .dataframe thead th {\n",
       "        text-align: right;\n",
       "    }\n",
       "</style>\n",
       "<table border=\"1\" class=\"dataframe\">\n",
       "  <thead>\n",
       "    <tr style=\"text-align: right;\">\n",
       "      <th></th>\n",
       "      <th>FaceId</th>\n",
       "      <th>Filename</th>\n",
       "      <th>Face</th>\n",
       "      <th>Consider</th>\n",
       "    </tr>\n",
       "  </thead>\n",
       "  <tbody>\n",
       "    <tr>\n",
       "      <th>0</th>\n",
       "      <td>face1</td>\n",
       "      <td>20161006_222700.jpg</td>\n",
       "      <td>[[88, 87, 83, 81, 80, 85, 85, 77, 84, 80, 78, ...</td>\n",
       "      <td>0</td>\n",
       "    </tr>\n",
       "    <tr>\n",
       "      <th>1</th>\n",
       "      <td>face2</td>\n",
       "      <td>20161007_203010.jpg</td>\n",
       "      <td>[[254, 254, 250, 254, 252, 254, 243, 210, 157,...</td>\n",
       "      <td>0</td>\n",
       "    </tr>\n",
       "    <tr>\n",
       "      <th>2</th>\n",
       "      <td>face3</td>\n",
       "      <td>20161007_203010.jpg</td>\n",
       "      <td>[[185, 184, 186, 186, 186, 186, 185, 185, 184,...</td>\n",
       "      <td>0</td>\n",
       "    </tr>\n",
       "    <tr>\n",
       "      <th>3</th>\n",
       "      <td>face4</td>\n",
       "      <td>20161007_203010.jpg</td>\n",
       "      <td>[[174, 174, 174, 175, 175, 175, 175, 175, 175,...</td>\n",
       "      <td>0</td>\n",
       "    </tr>\n",
       "    <tr>\n",
       "      <th>4</th>\n",
       "      <td>face5</td>\n",
       "      <td>20161007_203010.jpg</td>\n",
       "      <td>[[111, 87, 80, 76, 65, 64, 54, 46, 37, 31, 33,...</td>\n",
       "      <td>0</td>\n",
       "    </tr>\n",
       "    <tr>\n",
       "      <th>5</th>\n",
       "      <td>face6</td>\n",
       "      <td>20161008_021946.jpg</td>\n",
       "      <td>[[191, 186, 181, 99, 35, 41, 47, 50, 48, 48, 5...</td>\n",
       "      <td>0</td>\n",
       "    </tr>\n",
       "    <tr>\n",
       "      <th>6</th>\n",
       "      <td>face7</td>\n",
       "      <td>20161008_021946.jpg</td>\n",
       "      <td>[[24, 26, 28, 29, 30, 29, 32, 33, 35, 36, 39, ...</td>\n",
       "      <td>0</td>\n",
       "    </tr>\n",
       "  </tbody>\n",
       "</table>\n",
       "</div>"
      ],
      "text/plain": [
       "  FaceId             Filename  \\\n",
       "0  face1  20161006_222700.jpg   \n",
       "1  face2  20161007_203010.jpg   \n",
       "2  face3  20161007_203010.jpg   \n",
       "3  face4  20161007_203010.jpg   \n",
       "4  face5  20161007_203010.jpg   \n",
       "5  face6  20161008_021946.jpg   \n",
       "6  face7  20161008_021946.jpg   \n",
       "\n",
       "                                                Face  Consider  \n",
       "0  [[88, 87, 83, 81, 80, 85, 85, 77, 84, 80, 78, ...         0  \n",
       "1  [[254, 254, 250, 254, 252, 254, 243, 210, 157,...         0  \n",
       "2  [[185, 184, 186, 186, 186, 186, 185, 185, 184,...         0  \n",
       "3  [[174, 174, 174, 175, 175, 175, 175, 175, 175,...         0  \n",
       "4  [[111, 87, 80, 76, 65, 64, 54, 46, 37, 31, 33,...         0  \n",
       "5  [[191, 186, 181, 99, 35, 41, 47, 50, 48, 48, 5...         0  \n",
       "6  [[24, 26, 28, 29, 30, 29, 32, 33, 35, 36, 39, ...         0  "
      ]
     },
     "execution_count": 77,
     "metadata": {},
     "output_type": "execute_result"
    }
   ],
   "source": [
    "\n",
    "# Step 2: Process images and collect face data\n",
    "def detect_faces(images):\n",
    "    face_data = []\n",
    "    #face_cascade = cv2.CascadeClassifier(cv2.data.haarcascades + 'haarcascade_frontalface_default.xml')\n",
    "    face_cascade = cv2.CascadeClassifier('C:\\\\Users\\\\ravik\\\\Documents\\\\GitHub\\\\opencv\\\\data\\\\haarcascades\\\\haarcascade_frontalface_default.xml')\n",
    "    tempnum = 0\n",
    "    for filename, img in images:\n",
    "        gray = cv2.cvtColor(img, cv2.COLOR_BGR2GRAY)\n",
    "        faces = face_cascade.detectMultiScale(gray, scaleFactor=1.3, minNeighbors=5)\n",
    "        for (x, y, w, h) in faces:\n",
    "            face = gray[y:y+h, x:x+w]    \n",
    "            resized_face = cv2.resize(face, (180, 180))  # Define new_width and new_height   \n",
    "            tempnum = tempnum+1\n",
    "            faceId = \"face\"+str(tempnum)\n",
    "            face_data.append((faceId, filename, resized_face))\n",
    "    return face_data\n",
    "# Step 2: Process images and collect face data\n",
    "face_data = detect_faces(images)\n",
    "# Create a DataFrame to store face data\n",
    "df = pd.DataFrame(data={\n",
    "    'FaceId': [faceId for faceId, _, _ in face_data],\n",
    "    'Filename': [filename for _, filename, _ in face_data],\n",
    "    'Face': [face for _, _, face in face_data],\n",
    "    'Consider': [0] * len(face_data)\n",
    "})\n",
    "df\n",
    "    "
   ]
  },
  {
   "cell_type": "code",
   "execution_count": 78,
   "id": "595567fc",
   "metadata": {
    "scrolled": false
   },
   "outputs": [
    {
     "ename": "ValueError",
     "evalue": "too many values to unpack (expected 2)",
     "output_type": "error",
     "traceback": [
      "\u001b[1;31m---------------------------------------------------------------------------\u001b[0m",
      "\u001b[1;31mValueError\u001b[0m                                Traceback (most recent call last)",
      "Cell \u001b[1;32mIn[78], line 18\u001b[0m\n\u001b[0;32m     16\u001b[0m     \u001b[38;5;28;01mreturn\u001b[39;00m user_choices\n\u001b[0;32m     17\u001b[0m \u001b[38;5;66;03m# Step 3: Ask the user which faces to consider\u001b[39;00m\n\u001b[1;32m---> 18\u001b[0m user_choices \u001b[38;5;241m=\u001b[39m \u001b[43muser_face_selection\u001b[49m\u001b[43m(\u001b[49m\u001b[43mface_data\u001b[49m\u001b[43m)\u001b[49m\n",
      "Cell \u001b[1;32mIn[78], line 4\u001b[0m, in \u001b[0;36muser_face_selection\u001b[1;34m(face_data)\u001b[0m\n\u001b[0;32m      2\u001b[0m \u001b[38;5;28;01mdef\u001b[39;00m \u001b[38;5;21muser_face_selection\u001b[39m(face_data):\n\u001b[0;32m      3\u001b[0m     user_choices \u001b[38;5;241m=\u001b[39m {}\n\u001b[1;32m----> 4\u001b[0m     \u001b[38;5;28;01mfor\u001b[39;00m filename, faces \u001b[38;5;129;01min\u001b[39;00m face_data:\n\u001b[0;32m      5\u001b[0m         \n\u001b[0;32m      6\u001b[0m         \u001b[38;5;66;03m#for face in faces:\u001b[39;00m\n\u001b[0;32m      7\u001b[0m            \u001b[38;5;66;03m# print(face)\u001b[39;00m\n\u001b[0;32m      8\u001b[0m             \u001b[38;5;66;03m#image1 = Image.fromarray(face)\u001b[39;00m\n\u001b[0;32m      9\u001b[0m         cv2\u001b[38;5;241m.\u001b[39mimshow(\u001b[38;5;124m'\u001b[39m\u001b[38;5;124mFace\u001b[39m\u001b[38;5;124m'\u001b[39m, faces)\n\u001b[0;32m     10\u001b[0m         cv2\u001b[38;5;241m.\u001b[39mwaitKey()\n",
      "\u001b[1;31mValueError\u001b[0m: too many values to unpack (expected 2)"
     ]
    }
   ],
   "source": [
    "# Step 3: Ask the user which faces to consider\n",
    "def user_face_selection(face_data):\n",
    "    user_choices = {}\n",
    "    for filename, faces in face_data:\n",
    "        \n",
    "        #for face in faces:\n",
    "           # print(face)\n",
    "            #image1 = Image.fromarray(face)\n",
    "        cv2.imshow('Face', faces)\n",
    "        cv2.waitKey()\n",
    "        user_input = input(f\"Is the face in {filename} important? (y/n): \").lower()\n",
    "        if user_input == 'y':\n",
    "            user_choices[filename] = 1\n",
    "        else:\n",
    "            user_choices[filename] = 0\n",
    "    return user_choices\n",
    "# Step 3: Ask the user which faces to consider\n",
    "user_choices = user_face_selection(face_data)"
   ]
  },
  {
   "cell_type": "code",
   "execution_count": 28,
   "id": "c0999f8c",
   "metadata": {},
   "outputs": [
    {
     "data": {
      "text/plain": [
       "array([[ 96,  80,  88, ..., 238, 238, 238],\n",
       "       [ 90,  85,  89, ..., 238, 238, 238],\n",
       "       [ 87,  86,  90, ..., 238, 238, 238],\n",
       "       ...,\n",
       "       [ 63,  61,  59, ..., 251, 254, 242],\n",
       "       [ 64,  60,  57, ..., 217, 254, 247],\n",
       "       [ 65,  61,  59, ..., 162, 249, 254]], dtype=uint8)"
      ]
     },
     "execution_count": 28,
     "metadata": {},
     "output_type": "execute_result"
    }
   ],
   "source": [
    "face_data[0][1]"
   ]
  },
  {
   "cell_type": "code",
   "execution_count": 60,
   "id": "dbaccc95",
   "metadata": {},
   "outputs": [],
   "source": [
    "current_image_index = 0\n",
    "filename = \"\"\n",
    "user_choices = {}\n",
    "def show_image(face_data):\n",
    "    global current_image_index, user_choices, filename\n",
    "    #filename, faces = face_data\n",
    "    # Initialize variables\n",
    "    current_image_index = 0\n",
    "\n",
    "    # Function to show the next image\n",
    "    def show_next_image(face_data):\n",
    "        global current_image_index\n",
    "        if current_image_index < len(face_data):\n",
    "            face = face_data[current_image_index][2]\n",
    "            load_and_display_image(face)\n",
    "            current_image_index += 1\n",
    "        else:\n",
    "            messagebox.showinfo(\"Finished\",\"All images are done!\")\n",
    "            root.destroy()\n",
    "\n",
    "    # Function to load and display an image\n",
    "    def load_and_display_image(face):\n",
    "        image1 = Image.fromarray(face)\n",
    "        image2 = image1.resize((300, 300))  # Resize the image to fit the window\n",
    "        photo = ImageTk.PhotoImage(image2)\n",
    "        image_label.config(image=photo)\n",
    "        image_label.image = photo  # Keep a reference to prevent garbage collection\n",
    "\n",
    "    # Function to handle the \"Yes\" button\n",
    "    def answer_yes():\n",
    "        faceId = face_data[current_image_index-1][0]\n",
    "        user_choices[faceId] = 1\n",
    "        show_next_image(face_data)\n",
    "\n",
    "    # Function to handle the \"No\" button\n",
    "    def answer_no():\n",
    "        faceId = face_data[current_image_index-1][0]\n",
    "        user_choices[faceId] = 0\n",
    "        show_next_image(face_data)\n",
    "\n",
    "    # Create the main window\n",
    "    root = tk.Tk()\n",
    "    root.title(\"Image Viewer\")\n",
    "\n",
    "    # Create a label to display the images\n",
    "    image_label = tk.Label(root)\n",
    "    image_label.pack()\n",
    "\n",
    "    # Create \"Yes\" and \"No\" buttons\n",
    "    yes_button = tk.Button(root, text=\"Yes\", command=answer_yes)\n",
    "    no_button = tk.Button(root, text=\"No\", command=answer_no)\n",
    "    yes_button.pack(side=tk.LEFT)\n",
    "    no_button.pack(side=tk.RIGHT)\n",
    "\n",
    "    # Show the first image\n",
    "    show_next_image(face_data)\n",
    "\n",
    "    # Start the Tkinter main loop\n",
    "    root.mainloop()"
   ]
  },
  {
   "cell_type": "code",
   "execution_count": 61,
   "id": "6f586726",
   "metadata": {},
   "outputs": [],
   "source": [
    "\n",
    "import numpy as np\n",
    "import tkinter as tk\n",
    "from tkinter import messagebox\n",
    "from PIL import Image, ImageTk\n",
    "import os\n",
    "show_image(face_data)"
   ]
  },
  {
   "cell_type": "code",
   "execution_count": 62,
   "id": "67cdf8e9",
   "metadata": {},
   "outputs": [
    {
     "data": {
      "text/plain": [
       "{'face1': 1,\n",
       " 'face2': 1,\n",
       " 'face3': 1,\n",
       " 'face4': 0,\n",
       " 'face5': 0,\n",
       " 'face6': 1,\n",
       " 'face7': 0}"
      ]
     },
     "execution_count": 62,
     "metadata": {},
     "output_type": "execute_result"
    }
   ],
   "source": [
    "user_choices"
   ]
  },
  {
   "cell_type": "code",
   "execution_count": 63,
   "id": "59b48c32",
   "metadata": {},
   "outputs": [
    {
     "data": {
      "text/html": [
       "<div>\n",
       "<style scoped>\n",
       "    .dataframe tbody tr th:only-of-type {\n",
       "        vertical-align: middle;\n",
       "    }\n",
       "\n",
       "    .dataframe tbody tr th {\n",
       "        vertical-align: top;\n",
       "    }\n",
       "\n",
       "    .dataframe thead th {\n",
       "        text-align: right;\n",
       "    }\n",
       "</style>\n",
       "<table border=\"1\" class=\"dataframe\">\n",
       "  <thead>\n",
       "    <tr style=\"text-align: right;\">\n",
       "      <th></th>\n",
       "      <th>FaceId</th>\n",
       "      <th>Filename</th>\n",
       "      <th>Face</th>\n",
       "      <th>Consider</th>\n",
       "    </tr>\n",
       "  </thead>\n",
       "  <tbody>\n",
       "    <tr>\n",
       "      <th>0</th>\n",
       "      <td>face1</td>\n",
       "      <td>20161006_222700.jpg</td>\n",
       "      <td>[[96, 80, 88, 83, 86, 89, 87, 75, 74, 83, 84, ...</td>\n",
       "      <td>1</td>\n",
       "    </tr>\n",
       "    <tr>\n",
       "      <th>1</th>\n",
       "      <td>face2</td>\n",
       "      <td>20161007_203010.jpg</td>\n",
       "      <td>[[255, 254, 250, 255, 252, 255, 252, 222, 184,...</td>\n",
       "      <td>1</td>\n",
       "    </tr>\n",
       "    <tr>\n",
       "      <th>2</th>\n",
       "      <td>face3</td>\n",
       "      <td>20161007_203010.jpg</td>\n",
       "      <td>[[174, 174, 174, 175, 175, 175, 175, 175, 176,...</td>\n",
       "      <td>1</td>\n",
       "    </tr>\n",
       "    <tr>\n",
       "      <th>3</th>\n",
       "      <td>face4</td>\n",
       "      <td>20161007_203010.jpg</td>\n",
       "      <td>[[111, 85, 79, 76, 61, 65, 48, 45, 30, 33, 33,...</td>\n",
       "      <td>0</td>\n",
       "    </tr>\n",
       "    <tr>\n",
       "      <th>4</th>\n",
       "      <td>face5</td>\n",
       "      <td>20161007_203010.jpg</td>\n",
       "      <td>[[185, 185, 184, 186, 186, 186, 186, 186, 185,...</td>\n",
       "      <td>0</td>\n",
       "    </tr>\n",
       "    <tr>\n",
       "      <th>5</th>\n",
       "      <td>face6</td>\n",
       "      <td>20161008_021946.jpg</td>\n",
       "      <td>[[192, 194, 185, 185, 175, 148, 98, 36, 38, 39...</td>\n",
       "      <td>1</td>\n",
       "    </tr>\n",
       "    <tr>\n",
       "      <th>6</th>\n",
       "      <td>face7</td>\n",
       "      <td>20161008_021946.jpg</td>\n",
       "      <td>[[25, 24, 26, 26, 27, 28, 29, 30, 30, 31, 27, ...</td>\n",
       "      <td>0</td>\n",
       "    </tr>\n",
       "  </tbody>\n",
       "</table>\n",
       "</div>"
      ],
      "text/plain": [
       "  FaceId             Filename  \\\n",
       "0  face1  20161006_222700.jpg   \n",
       "1  face2  20161007_203010.jpg   \n",
       "2  face3  20161007_203010.jpg   \n",
       "3  face4  20161007_203010.jpg   \n",
       "4  face5  20161007_203010.jpg   \n",
       "5  face6  20161008_021946.jpg   \n",
       "6  face7  20161008_021946.jpg   \n",
       "\n",
       "                                                Face  Consider  \n",
       "0  [[96, 80, 88, 83, 86, 89, 87, 75, 74, 83, 84, ...         1  \n",
       "1  [[255, 254, 250, 255, 252, 255, 252, 222, 184,...         1  \n",
       "2  [[174, 174, 174, 175, 175, 175, 175, 175, 176,...         1  \n",
       "3  [[111, 85, 79, 76, 61, 65, 48, 45, 30, 33, 33,...         0  \n",
       "4  [[185, 185, 184, 186, 186, 186, 186, 186, 185,...         0  \n",
       "5  [[192, 194, 185, 185, 175, 148, 98, 36, 38, 39...         1  \n",
       "6  [[25, 24, 26, 26, 27, 28, 29, 30, 30, 31, 27, ...         0  "
      ]
     },
     "execution_count": 63,
     "metadata": {},
     "output_type": "execute_result"
    }
   ],
   "source": [
    "\n",
    "# Step 4: Append user choices to the existing dataframe\n",
    "def append_user_choices(dataframe, user_choices):\n",
    "    for faceId in user_choices:\n",
    "        dataframe.loc[dataframe['FaceId'] == faceId, 'Consider'] = user_choices[faceId]\n",
    "    return dataframe\n",
    "\n",
    "# Step 4: Append user choices to the existing dataframe\n",
    "df = append_user_choices(df, user_choices)\n",
    "df"
   ]
  },
  {
   "cell_type": "code",
   "execution_count": 70,
   "id": "ffb1fefd",
   "metadata": {},
   "outputs": [
    {
     "name": "stderr",
     "output_type": "stream",
     "text": [
      "C:\\Users\\ravik\\AppData\\Local\\Temp\\ipykernel_12872\\912249143.py:15: VisibleDeprecationWarning: Creating an ndarray from ragged nested sequences (which is a list-or-tuple of lists-or-tuples-or ndarrays with different lengths or shapes) is deprecated. If you meant to do this, you must specify 'dtype=object' when creating the ndarray.\n",
      "  X = np.array(df['Face'].tolist())\n"
     ]
    },
    {
     "data": {
      "text/plain": [
       "(312, 312)"
      ]
     },
     "execution_count": 70,
     "metadata": {},
     "output_type": "execute_result"
    }
   ],
   "source": [
    "# Step 5: Prepare a convolution model for face recognition\n",
    "def create_face_recognition_model(input_shape):\n",
    "    model = keras.Sequential([\n",
    "        keras.layers.Conv2D(32, (3, 3), activation='relu', input_shape=input_shape),\n",
    "        keras.layers.MaxPooling2D((2, 2)),\n",
    "        keras.layers.Flatten(),\n",
    "        keras.layers.Dense(128, activation='relu'),\n",
    "        keras.layers.Dense(2, activation='softmax')  # Binary classification (consider or not)\n",
    "    ])\n",
    "    model.compile(optimizer='adam', loss='sparse_categorical_crossentropy', metrics=['accuracy'])\n",
    "    return model\n",
    "\n",
    "# Step 5: Prepare a convolution model for face recognition\n",
    "\n",
    "X = np.array(df['Face'].tolist())\n",
    "y = np.array(df['Consider'].tolist())\n",
    "X_train, X_test, y_train, y_test = train_test_split(X, y, test_size=0.2, random_state=42)\n",
    "input_shape = X_train[0].shape\n",
    "input_shape"
   ]
  },
  {
   "cell_type": "code",
   "execution_count": 88,
   "id": "243dd6eb",
   "metadata": {},
   "outputs": [
    {
     "name": "stdout",
     "output_type": "stream",
     "text": [
      "Epoch 1/10\n",
      "1/1 [==============================] - 14s 14s/step - loss: 1.5955e-05 - accuracy: 1.0000 - val_loss: 0.0000e+00 - val_accuracy: 1.0000\n",
      "Epoch 2/10\n",
      "1/1 [==============================] - 0s 284ms/step - loss: 0.0000e+00 - accuracy: 1.0000 - val_loss: 0.0000e+00 - val_accuracy: 1.0000\n",
      "Epoch 3/10\n",
      "1/1 [==============================] - 0s 317ms/step - loss: 0.0000e+00 - accuracy: 1.0000 - val_loss: 0.0000e+00 - val_accuracy: 1.0000\n",
      "Epoch 4/10\n",
      "1/1 [==============================] - 0s 288ms/step - loss: 0.0000e+00 - accuracy: 1.0000 - val_loss: 0.0000e+00 - val_accuracy: 1.0000\n",
      "Epoch 5/10\n",
      "1/1 [==============================] - 0s 295ms/step - loss: 0.0000e+00 - accuracy: 1.0000 - val_loss: 0.0000e+00 - val_accuracy: 1.0000\n",
      "Epoch 6/10\n",
      "1/1 [==============================] - 0s 304ms/step - loss: 0.0000e+00 - accuracy: 1.0000 - val_loss: 0.0000e+00 - val_accuracy: 1.0000\n",
      "Epoch 7/10\n",
      "1/1 [==============================] - 0s 288ms/step - loss: 0.0000e+00 - accuracy: 1.0000 - val_loss: 0.0000e+00 - val_accuracy: 1.0000\n",
      "Epoch 8/10\n",
      "1/1 [==============================] - 0s 395ms/step - loss: 0.0000e+00 - accuracy: 1.0000 - val_loss: 0.0000e+00 - val_accuracy: 1.0000\n",
      "Epoch 9/10\n",
      "1/1 [==============================] - 0s 349ms/step - loss: 0.0000e+00 - accuracy: 1.0000 - val_loss: 0.0000e+00 - val_accuracy: 1.0000\n",
      "Epoch 10/10\n",
      "1/1 [==============================] - 0s 332ms/step - loss: 0.0000e+00 - accuracy: 1.0000 - val_loss: 0.0000e+00 - val_accuracy: 1.0000\n"
     ]
    },
    {
     "data": {
      "text/plain": [
       "<keras.src.callbacks.History at 0x29132ff1150>"
      ]
     },
     "execution_count": 88,
     "metadata": {},
     "output_type": "execute_result"
    }
   ],
   "source": [
    "import numpy as np\n",
    "from tensorflow.keras.models import Sequential\n",
    "from tensorflow.keras.layers import Conv2D, MaxPooling2D, Flatten, Dense\n",
    "from tensorflow.keras.preprocessing.sequence import pad_sequences\n",
    "\n",
    "# Assume df is your DataFrame containing the data\n",
    "\n",
    "# Convert the 'Face' column into NumPy arrays\n",
    "X = df['Face'].tolist()\n",
    "\n",
    "# Filter out empty arrays and get the maximum length for non-empty arrays\n",
    "non_empty_X = [x for x in X if len(x) > 0]\n",
    "\n",
    "# Determine the maximum sequence length (number of values in each list)\n",
    "max_length = max(len(lst) for lst in non_empty_X)\n",
    "\n",
    "# Pad the sequences to make them uniform in length\n",
    "X_padded = pad_sequences(non_empty_X, maxlen=max_length, padding='post', dtype='float32')\n",
    "\n",
    "# Assuming the 'Consider' column represents the labels\n",
    "y = df['Consider'].values\n",
    "\n",
    "# Create and train the model\n",
    "model = Sequential()\n",
    "model.add(Conv2D(32, (3, 3), activation='relu', input_shape=(max_length, len(X_padded[0]), 1)))\n",
    "model.add(MaxPooling2D((2, 2)))\n",
    "model.add(Conv2D(64, (3, 3), activation='relu'))\n",
    "model.add(MaxPooling2D((2, 2)))\n",
    "model.add(Flatten())\n",
    "model.add(Dense(64, activation='relu'))\n",
    "model.add(Dense(1, activation='sigmoid'))  # Binary classification\n",
    "\n",
    "# Compile the model\n",
    "model.compile(optimizer='adam', loss='binary_crossentropy', metrics=['accuracy'])\n",
    "\n",
    "# Reshape the input data for CNN\n",
    "X_padded = X_padded.reshape(X_padded.shape[0], X_padded.shape[1], X_padded.shape[2], 1)\n",
    "\n",
    "# Train the model\n",
    "model.fit(X_padded, y, epochs=10, batch_size=32, validation_split=0.2)\n"
   ]
  },
  {
   "cell_type": "code",
   "execution_count": 89,
   "id": "6743ac9e",
   "metadata": {},
   "outputs": [
    {
     "ename": "ValueError",
     "evalue": "Failed to convert a NumPy array to a Tensor (Unsupported object type numpy.ndarray).",
     "output_type": "error",
     "traceback": [
      "\u001b[1;31m---------------------------------------------------------------------------\u001b[0m",
      "\u001b[1;31mValueError\u001b[0m                                Traceback (most recent call last)",
      "Cell \u001b[1;32mIn[89], line 1\u001b[0m\n\u001b[1;32m----> 1\u001b[0m test_loss, test_accuracy \u001b[38;5;241m=\u001b[39m \u001b[43mmodel\u001b[49m\u001b[38;5;241;43m.\u001b[39;49m\u001b[43mevaluate\u001b[49m\u001b[43m(\u001b[49m\u001b[43mX_test\u001b[49m\u001b[43m,\u001b[49m\u001b[43m \u001b[49m\u001b[43my_test\u001b[49m\u001b[43m)\u001b[49m\n\u001b[0;32m      2\u001b[0m \u001b[38;5;28mprint\u001b[39m(\u001b[38;5;124mf\u001b[39m\u001b[38;5;124m\"\u001b[39m\u001b[38;5;124mTest accuracy: \u001b[39m\u001b[38;5;132;01m{\u001b[39;00mtest_accuracy\u001b[38;5;132;01m}\u001b[39;00m\u001b[38;5;124m\"\u001b[39m)\n",
      "File \u001b[1;32m~\\AppData\\Local\\anaconda3\\lib\\site-packages\\keras\\src\\utils\\traceback_utils.py:70\u001b[0m, in \u001b[0;36mfilter_traceback.<locals>.error_handler\u001b[1;34m(*args, **kwargs)\u001b[0m\n\u001b[0;32m     67\u001b[0m     filtered_tb \u001b[38;5;241m=\u001b[39m _process_traceback_frames(e\u001b[38;5;241m.\u001b[39m__traceback__)\n\u001b[0;32m     68\u001b[0m     \u001b[38;5;66;03m# To get the full stack trace, call:\u001b[39;00m\n\u001b[0;32m     69\u001b[0m     \u001b[38;5;66;03m# `tf.debugging.disable_traceback_filtering()`\u001b[39;00m\n\u001b[1;32m---> 70\u001b[0m     \u001b[38;5;28;01mraise\u001b[39;00m e\u001b[38;5;241m.\u001b[39mwith_traceback(filtered_tb) \u001b[38;5;28;01mfrom\u001b[39;00m \u001b[38;5;28mNone\u001b[39m\n\u001b[0;32m     71\u001b[0m \u001b[38;5;28;01mfinally\u001b[39;00m:\n\u001b[0;32m     72\u001b[0m     \u001b[38;5;28;01mdel\u001b[39;00m filtered_tb\n",
      "File \u001b[1;32m~\\AppData\\Local\\anaconda3\\lib\\site-packages\\tensorflow\\python\\framework\\constant_op.py:102\u001b[0m, in \u001b[0;36mconvert_to_eager_tensor\u001b[1;34m(value, ctx, dtype)\u001b[0m\n\u001b[0;32m    100\u001b[0m     dtype \u001b[38;5;241m=\u001b[39m dtypes\u001b[38;5;241m.\u001b[39mas_dtype(dtype)\u001b[38;5;241m.\u001b[39mas_datatype_enum\n\u001b[0;32m    101\u001b[0m ctx\u001b[38;5;241m.\u001b[39mensure_initialized()\n\u001b[1;32m--> 102\u001b[0m \u001b[38;5;28;01mreturn\u001b[39;00m \u001b[43mops\u001b[49m\u001b[38;5;241;43m.\u001b[39;49m\u001b[43mEagerTensor\u001b[49m\u001b[43m(\u001b[49m\u001b[43mvalue\u001b[49m\u001b[43m,\u001b[49m\u001b[43m \u001b[49m\u001b[43mctx\u001b[49m\u001b[38;5;241;43m.\u001b[39;49m\u001b[43mdevice_name\u001b[49m\u001b[43m,\u001b[49m\u001b[43m \u001b[49m\u001b[43mdtype\u001b[49m\u001b[43m)\u001b[49m\n",
      "\u001b[1;31mValueError\u001b[0m: Failed to convert a NumPy array to a Tensor (Unsupported object type numpy.ndarray)."
     ]
    }
   ],
   "source": [
    "test_loss, test_accuracy = model.evaluate(X_test, y_test)\n",
    "print(f\"Test accuracy: {test_accuracy}\")"
   ]
  },
  {
   "cell_type": "code",
   "execution_count": null,
   "id": "97def2fd",
   "metadata": {},
   "outputs": [],
   "source": [
    "\n",
    "\n",
    "model = create_face_recognition_model(input_shape)\n",
    "\n",
    "# Step 6: Pass the dataframe to the convolution model\n",
    "model.fit(X_train, y_train, epochs=10)\n",
    "\n",
    "# Evaluate the model\n",
    "test_loss, test_accuracy = model.evaluate(X_test, y_test)\n",
    "print(f\"Test accuracy: {test_accuracy}\")"
   ]
  },
  {
   "cell_type": "code",
   "execution_count": null,
   "id": "090d452b",
   "metadata": {},
   "outputs": [],
   "source": [
    "\n",
    "\n"
   ]
  }
 ],
 "metadata": {
  "kernelspec": {
   "display_name": "Python 3 (ipykernel)",
   "language": "python",
   "name": "python3"
  },
  "language_info": {
   "codemirror_mode": {
    "name": "ipython",
    "version": 3
   },
   "file_extension": ".py",
   "mimetype": "text/x-python",
   "name": "python",
   "nbconvert_exporter": "python",
   "pygments_lexer": "ipython3",
   "version": "3.10.9"
  }
 },
 "nbformat": 4,
 "nbformat_minor": 5
}
