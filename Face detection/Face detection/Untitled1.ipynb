{
 "cells": [
  {
   "cell_type": "code",
   "execution_count": 2,
   "id": "0b10f583",
   "metadata": {},
   "outputs": [
    {
     "ename": "NameError",
     "evalue": "name 'pandas' is not defined",
     "output_type": "error",
     "traceback": [
      "\u001b[1;31m---------------------------------------------------------------------------\u001b[0m",
      "\u001b[1;31mNameError\u001b[0m                                 Traceback (most recent call last)",
      "Cell \u001b[1;32mIn[2], line 1\u001b[0m\n\u001b[1;32m----> 1\u001b[0m \u001b[43mpandas\u001b[49m \u001b[38;5;241m-\u001b[39m\u001b[38;5;241m-\u001b[39mversion\n",
      "\u001b[1;31mNameError\u001b[0m: name 'pandas' is not defined"
     ]
    }
   ],
   "source": [
    "pandas --version \n",
    "\n",
    " "
   ]
  },
  {
   "cell_type": "code",
   "execution_count": 1,
   "id": "0bae4e89",
   "metadata": {},
   "outputs": [
    {
     "name": "stdout",
     "output_type": "stream",
     "text": [
      "Enter the folder path: C:\\Users\\ravik\\Desktop\\My images\\test\n"
     ]
    },
    {
     "ename": "NameError",
     "evalue": "name 'detect_faces' is not defined",
     "output_type": "error",
     "traceback": [
      "\u001b[1;31m---------------------------------------------------------------------------\u001b[0m",
      "\u001b[1;31mNameError\u001b[0m                                 Traceback (most recent call last)",
      "Cell \u001b[1;32mIn[1], line 48\u001b[0m\n\u001b[0;32m     45\u001b[0m folder_path \u001b[38;5;241m=\u001b[39m \u001b[38;5;28minput\u001b[39m(\u001b[38;5;124m\"\u001b[39m\u001b[38;5;124mEnter the folder path: \u001b[39m\u001b[38;5;124m\"\u001b[39m)\n\u001b[0;32m     47\u001b[0m \u001b[38;5;66;03m# Step 1: Process images in the folder\u001b[39;00m\n\u001b[1;32m---> 48\u001b[0m face_data \u001b[38;5;241m=\u001b[39m \u001b[43mprocess_images_in_folder\u001b[49m\u001b[43m(\u001b[49m\u001b[43mfolder_path\u001b[49m\u001b[43m)\u001b[49m\n\u001b[0;32m     50\u001b[0m \u001b[38;5;66;03m# Step 3: Gather user choices\u001b[39;00m\n\u001b[0;32m     51\u001b[0m user_choices \u001b[38;5;241m=\u001b[39m gather_user_choices(face_data)\n",
      "Cell \u001b[1;32mIn[1], line 15\u001b[0m, in \u001b[0;36mprocess_images_in_folder\u001b[1;34m(folder_path)\u001b[0m\n\u001b[0;32m     13\u001b[0m image_path \u001b[38;5;241m=\u001b[39m os\u001b[38;5;241m.\u001b[39mpath\u001b[38;5;241m.\u001b[39mjoin(folder_path, filename)\n\u001b[0;32m     14\u001b[0m image \u001b[38;5;241m=\u001b[39m cv2\u001b[38;5;241m.\u001b[39mimread(image_path)\n\u001b[1;32m---> 15\u001b[0m faces \u001b[38;5;241m=\u001b[39m \u001b[43mdetect_faces\u001b[49m(image)  \u001b[38;5;66;03m# You'll need to implement face detection\u001b[39;00m\n\u001b[0;32m     16\u001b[0m \u001b[38;5;28;01mif\u001b[39;00m faces:\n\u001b[0;32m     17\u001b[0m     face_data\u001b[38;5;241m.\u001b[39mappend({\u001b[38;5;124m'\u001b[39m\u001b[38;5;124mFile\u001b[39m\u001b[38;5;124m'\u001b[39m: filename, \u001b[38;5;124m'\u001b[39m\u001b[38;5;124mFaces\u001b[39m\u001b[38;5;124m'\u001b[39m: faces})\n",
      "\u001b[1;31mNameError\u001b[0m: name 'detect_faces' is not defined"
     ]
    }
   ],
   "source": [
    "import os\n",
    "import cv2\n",
    "import pandas as pd\n",
    "import tkinter as tk\n",
    "from tkinter import simpledialog\n",
    "import tensorflow as tf  # Assuming you use TensorFlow for the CNN model\n",
    "\n",
    "# Step 1: Read the folder and process all images\n",
    "def process_images_in_folder(folder_path):\n",
    "    face_data = []\n",
    "    for filename in os.listdir(folder_path):\n",
    "        if filename.endswith(\".jpg\") or filename.endswith(\".png\"):\n",
    "            image_path = os.path.join(folder_path, filename)\n",
    "            image = cv2.imread(image_path)\n",
    "            faces = detect_faces(image)  # You'll need to implement face detection\n",
    "            if faces:\n",
    "                face_data.append({'File': filename, 'Faces': faces})\n",
    "    return pd.DataFrame(face_data)\n",
    "\n",
    "detect_faces(image):\n",
    "    \n",
    "# Step 3: Ask user for choices about which faces to consider\n",
    "def gather_user_choices(data_frame):\n",
    "    user_choices = []\n",
    "    for index, row in data_frame.iterrows():\n",
    "        file = row['File']\n",
    "        faces = row['Faces']\n",
    "        for i, face in enumerate(faces):\n",
    "            user_choice = simpledialog.askstring(\"Face Selection\", f\"Consider this face in {file}?\\n(Yes/No)\")\n",
    "            if user_choice.lower() == 'yes':\n",
    "                user_choices.append({'File': file, 'Face': i, 'Image': face})\n",
    "    return pd.DataFrame(user_choices)\n",
    "\n",
    "# Step 5: Define and train the convolutional model for face recognition\n",
    "def build_cnn_model():\n",
    "    print(\"test build_cnn_model\")\n",
    "    # Implement your CNN model using TensorFlow, PyTorch, or a similar library\n",
    "    # and train it on your face data\n",
    "\n",
    "# Step 6: Pass the data frame to the convolution model\n",
    "def recognize_faces_with_cnn(model, data_frame):\n",
    "    print(\"test recognize_faces_with_cnn\")\n",
    "    # Implement the face recognition part using your trained model\n",
    "\n",
    "# Main program\n",
    "if __name__ == \"__main__\":\n",
    "    folder_path = input(\"Enter the folder path: \")\n",
    "    \n",
    "    # Step 1: Process images in the folder\n",
    "    face_data = process_images_in_folder(folder_path)\n",
    "    \n",
    "    # Step 3: Gather user choices\n",
    "    user_choices = gather_user_choices(face_data)\n",
    "    \n",
    "    # Step 5: Build and train the CNN model\n",
    "    cnn_model = build_cnn_model()\n",
    "    \n",
    "    # Step 6: Recognize faces using the CNN model\n",
    "    recognize_faces_with_cnn(cnn_model, user_choices)\n"
   ]
  },
  {
   "cell_type": "code",
   "execution_count": null,
   "id": "475d770e",
   "metadata": {},
   "outputs": [],
   "source": []
  }
 ],
 "metadata": {
  "kernelspec": {
   "display_name": "Python 3 (ipykernel)",
   "language": "python",
   "name": "python3"
  },
  "language_info": {
   "codemirror_mode": {
    "name": "ipython",
    "version": 3
   },
   "file_extension": ".py",
   "mimetype": "text/x-python",
   "name": "python",
   "nbconvert_exporter": "python",
   "pygments_lexer": "ipython3",
   "version": "3.10.9"
  }
 },
 "nbformat": 4,
 "nbformat_minor": 5
}
